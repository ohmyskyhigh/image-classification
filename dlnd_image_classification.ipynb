{
 "cells": [
  {
   "cell_type": "markdown",
   "metadata": {
    "collapsed": true,
    "deletable": true,
    "editable": true
   },
   "source": [
    "# Image Classification\n",
    "In this project, you'll classify images from the [CIFAR-10 dataset](https://www.cs.toronto.edu/~kriz/cifar.html).  The dataset consists of airplanes, dogs, cats, and other objects. You'll preprocess the images, then train a convolutional neural network on all the samples. The images need to be normalized and the labels need to be one-hot encoded.  You'll get to apply what you learned and build a convolutional, max pooling, dropout, and fully connected layers.  At the end, you'll get to see your neural network's predictions on the sample images.\n",
    "## Get the Data\n",
    "Run the following cell to download the [CIFAR-10 dataset for python](https://www.cs.toronto.edu/~kriz/cifar-10-python.tar.gz)."
   ]
  },
  {
   "cell_type": "code",
   "execution_count": 1,
   "metadata": {
    "collapsed": false,
    "deletable": true,
    "editable": true
   },
   "outputs": [
    {
     "name": "stdout",
     "output_type": "stream",
     "text": [
      "All files found!\n"
     ]
    }
   ],
   "source": [
    "\"\"\"\n",
    "DON'T MODIFY ANYTHING IN THIS CELL THAT IS BELOW THIS LINE\n",
    "\"\"\"\n",
    "from urllib.request import urlretrieve\n",
    "from os.path import isfile, isdir\n",
    "from tqdm import tqdm\n",
    "import problem_unittests as tests\n",
    "import tarfile\n",
    "\n",
    "cifar10_dataset_folder_path = 'cifar-10-batches-py'\n",
    "\n",
    "# Use Floyd's cifar-10 dataset if present\n",
    "floyd_cifar10_location = '/input/cifar-10/python.tar.gz'\n",
    "if isfile(floyd_cifar10_location):\n",
    "    tar_gz_path = floyd_cifar10_location\n",
    "else:\n",
    "    tar_gz_path = 'cifar-10-python.tar.gz'\n",
    "\n",
    "class DLProgress(tqdm):\n",
    "    last_block = 0\n",
    "\n",
    "    def hook(self, block_num=1, block_size=1, total_size=None):\n",
    "        self.total = total_size\n",
    "        self.update((block_num - self.last_block) * block_size)\n",
    "        self.last_block = block_num\n",
    "\n",
    "if not isfile(tar_gz_path):\n",
    "    with DLProgress(unit='B', unit_scale=True, miniters=1, desc='CIFAR-10 Dataset') as pbar:\n",
    "        urlretrieve(\n",
    "            'https://www.cs.toronto.edu/~kriz/cifar-10-python.tar.gz',\n",
    "            tar_gz_path,\n",
    "            pbar.hook)\n",
    "\n",
    "if not isdir(cifar10_dataset_folder_path):\n",
    "    with tarfile.open(tar_gz_path) as tar:\n",
    "        tar.extractall()\n",
    "        tar.close()\n",
    "\n",
    "\n",
    "tests.test_folder_path(cifar10_dataset_folder_path)"
   ]
  },
  {
   "cell_type": "markdown",
   "metadata": {
    "deletable": true,
    "editable": true
   },
   "source": [
    "## Explore the Data\n",
    "The dataset is broken into batches to prevent your machine from running out of memory.  The CIFAR-10 dataset consists of 5 batches, named `data_batch_1`, `data_batch_2`, etc.. Each batch contains the labels and images that are one of the following:\n",
    "* airplane\n",
    "* automobile\n",
    "* bird\n",
    "* cat\n",
    "* deer\n",
    "* dog\n",
    "* frog\n",
    "* horse\n",
    "* ship\n",
    "* truck\n",
    "\n",
    "Understanding a dataset is part of making predictions on the data.  Play around with the code cell below by changing the `batch_id` and `sample_id`. The `batch_id` is the id for a batch (1-5). The `sample_id` is the id for a image and label pair in the batch.\n",
    "\n",
    "Ask yourself \"What are all possible labels?\", \"What is the range of values for the image data?\", \"Are the labels in order or random?\".  Answers to questions like these will help you preprocess the data and end up with better predictions."
   ]
  },
  {
   "cell_type": "code",
   "execution_count": 3,
   "metadata": {
    "collapsed": false,
    "deletable": true,
    "editable": true
   },
   "outputs": [
    {
     "name": "stdout",
     "output_type": "stream",
     "text": [
      "\n",
      "Stats of batch 1:\n",
      "Samples: 10000\n",
      "Label Counts: {0: 1005, 1: 974, 2: 1032, 3: 1016, 4: 999, 5: 937, 6: 1030, 7: 1001, 8: 1025, 9: 981}\n",
      "First 20 Labels: [6, 9, 9, 4, 1, 1, 2, 7, 8, 3, 4, 7, 7, 2, 9, 9, 9, 3, 2, 6]\n",
      "\n",
      "Example of Image 5:\n",
      "Image - Min Value: 0 Max Value: 252\n",
      "Image - Shape: (32, 32, 3)\n",
      "Label - Label Id: 1 Name: automobile\n"
     ]
    },
    {
     "data": {
      "image/png": "[encoded data removed]",
      "text/plain": [
       "<matplotlib.figure.Figure at 0x7ff7056d5160>"
      ]
     },
     "metadata": {
      "image/png": {
       "height": 250,
       "width": 253
      }
     },
     "output_type": "display_data"
    }
   ],
   "source": [
    "%matplotlib inline\n",
    "%config InlineBackend.figure_format = 'retina'\n",
    "\n",
    "import helper\n",
    "import numpy as np\n",
    "\n",
    "# Explore the dataset\n",
    "batch_id = 1\n",
    "sample_id = 5\n",
    "helper.display_stats(cifar10_dataset_folder_path, batch_id, sample_id)"
   ]
  },
  {
   "cell_type": "markdown",
   "metadata": {
    "deletable": true,
    "editable": true
   },
   "source": [
    "## Implement Preprocess Functions\n",
    "### Normalize\n",
    "In the cell below, implement the `normalize` function to take in image data, `x`, and return it as a normalized Numpy array. The values should be in the range of 0 to 1, inclusive.  The return object should be the same shape as `x`."
   ]
  },
  {
   "cell_type": "code",
   "execution_count": 96,
   "metadata": {
    "collapsed": false,
    "deletable": true,
    "editable": true
   },
   "outputs": [
    {
     "name": "stdout",
     "output_type": "stream",
     "text": [
      "Tests Passed\n"
     ]
    }
   ],
   "source": [
    "\n",
    "def normalize(x):\n",
    "    \"\"\"\n",
    "    Normalize a list of sample image data in the range of 0 to 1\n",
    "    : x: List of image data.  The image shape is (32, 32, 3)\n",
    "    : return: Numpy array of normalize data\n",
    "    \"\"\"\n",
    "    normalized = (255 - x) / 255\n",
    "    return x / np.max(x, axis = 0)\n",
    "\n",
    "\n",
    "\"\"\"\n",
    "DON'T MODIFY ANYTHING IN THIS CELL THAT IS BELOW THIS LINE\n",
    "\"\"\"\n",
    "tests.test_normalize(normalize)"
   ]
  },
  {
   "cell_type": "code",
   "execution_count": 7,
   "metadata": {
    "collapsed": true
   },
   "outputs": [],
   "source": [
    "import numpy as np"
   ]
  },
  {
   "cell_type": "markdown",
   "metadata": {
    "deletable": true,
    "editable": true
   },
   "source": [
    "### One-hot encode\n",
    "Just like the previous code cell, you'll be implementing a function for preprocessing.  This time, you'll implement the `one_hot_encode` function. The input, `x`, are a list of labels.  Implement the function to return the list of labels as One-Hot encoded Numpy array.  The possible values for labels are 0 to 9. The one-hot encoding function should return the same encoding for each value between each call to `one_hot_encode`.  Make sure to save the map of encodings outside the function.\n",
    "\n",
    "Hint: Don't reinvent the wheel."
   ]
  },
  {
   "cell_type": "code",
   "execution_count": 97,
   "metadata": {
    "collapsed": false,
    "deletable": true,
    "editable": true
   },
   "outputs": [
    {
     "name": "stdout",
     "output_type": "stream",
     "text": [
      "Tests Passed\n"
     ]
    }
   ],
   "source": [
    "def one_hot_encode(x):\n",
    "    \"\"\"\n",
    "    One hot encode a list of sample labels. Return a one-hot encoded vector for each label.\n",
    "    : x: List of sample Labels\n",
    "    : return: Numpy array of one-hot encoded labels\n",
    "    \"\"\"\n",
    "    rows = len(x)      \n",
    "    onehot_x = np.zeros([rows,10])\n",
    "\n",
    "    for idx,v in enumerate(x):      \n",
    "        onehot_x[idx][v] = 1\n",
    "    return onehot_x\n",
    "\n",
    "\n",
    "\"\"\"\n",
    "DON'T MODIFY ANYTHING IN THIS CELL THAT IS BELOW THIS LINE\n",
    "\"\"\"\n",
    "tests.test_one_hot_encode(one_hot_encode)"
   ]
  },
  {
   "cell_type": "markdown",
   "metadata": {
    "deletable": true,
    "editable": true
   },
   "source": [
    "### Randomize Data\n",
    "As you saw from exploring the data above, the order of the samples are randomized.  It doesn't hurt to randomize it again, but you don't need to for this dataset."
   ]
  },
  {
   "cell_type": "markdown",
   "metadata": {
    "deletable": true,
    "editable": true
   },
   "source": [
    "## Preprocess all the data and save it\n",
    "Running the code cell below will preprocess all the CIFAR-10 data and save it to file. The code below also uses 10% of the training data for validation."
   ]
  },
  {
   "cell_type": "code",
   "execution_count": 98,
   "metadata": {
    "collapsed": false,
    "deletable": true,
    "editable": true
   },
   "outputs": [],
   "source": [
    "\"\"\"\n",
    "DON'T MODIFY ANYTHING IN THIS CELL\n",
    "\"\"\"\n",
    "# Preprocess Training, Validation, and Testing Data\n",
    "helper.preprocess_and_save_data(cifar10_dataset_folder_path, normalize, one_hot_encode)"
   ]
  },
  {
   "cell_type": "markdown",
   "metadata": {
    "deletable": true,
    "editable": true
   },
   "source": [
    "# Check Point\n",
    "This is your first checkpoint.  If you ever decide to come back to this notebook or have to restart the notebook, you can start from here.  The preprocessed data has been saved to disk."
   ]
  },
  {
   "cell_type": "code",
   "execution_count": 99,
   "metadata": {
    "collapsed": true,
    "deletable": true,
    "editable": true
   },
   "outputs": [],
   "source": [
    "\"\"\"\n",
    "DON'T MODIFY ANYTHING IN THIS CELL\n",
    "\"\"\"\n",
    "import pickle\n",
    "import problem_unittests as tests\n",
    "import helper\n",
    "\n",
    "# Load the Preprocessed Validation data\n",
    "valid_features, valid_labels = pickle.load(open('preprocess_validation.p', mode='rb'))"
   ]
  },
  {
   "cell_type": "markdown",
   "metadata": {
    "deletable": true,
    "editable": true
   },
   "source": [
    "## Build the network\n",
    "For the neural network, you'll build each layer into a function.  Most of the code you've seen has been outside of functions. To test your code more thoroughly, we require that you put each layer in a function.  This allows us to give you better feedback and test for simple mistakes using our unittests before you submit your project.\n",
    "\n",
    ">**Note:** If you're finding it hard to dedicate enough time for this course each week, we've provided a small shortcut to this part of the project. In the next couple of problems, you'll have the option to use classes from the [TensorFlow Layers](https://www.tensorflow.org/api_docs/python/tf/layers) or [TensorFlow Layers (contrib)](https://www.tensorflow.org/api_guides/python/contrib.layers) packages to build each layer, except the layers you build in the \"Convolutional and Max Pooling Layer\" section.  TF Layers is similar to Keras's and TFLearn's abstraction to layers, so it's easy to pickup.\n",
    "\n",
    ">However, if you would like to get the most out of this course, try to solve all the problems _without_ using anything from the TF Layers packages. You **can** still use classes from other packages that happen to have the same name as ones you find in TF Layers! For example, instead of using the TF Layers version of the `conv2d` class, [tf.layers.conv2d](https://www.tensorflow.org/api_docs/python/tf/layers/conv2d), you would want to use the TF Neural Network version of `conv2d`, [tf.nn.conv2d](https://www.tensorflow.org/api_docs/python/tf/nn/conv2d). \n",
    "\n",
    "Let's begin!\n",
    "\n",
    "### Input\n",
    "The neural network needs to read the image data, one-hot encoded labels, and dropout keep probability. Implement the following functions\n",
    "* Implement `neural_net_image_input`\n",
    " * Return a [TF Placeholder](https://www.tensorflow.org/api_docs/python/tf/placeholder)\n",
    " * Set the shape using `image_shape` with batch size set to `None`.\n",
    " * Name the TensorFlow placeholder \"x\" using the TensorFlow `name` parameter in the [TF Placeholder](https://www.tensorflow.org/api_docs/python/tf/placeholder).\n",
    "* Implement `neural_net_label_input`\n",
    " * Return a [TF Placeholder](https://www.tensorflow.org/api_docs/python/tf/placeholder)\n",
    " * Set the shape using `n_classes` with batch size set to `None`.\n",
    " * Name the TensorFlow placeholder \"y\" using the TensorFlow `name` parameter in the [TF Placeholder](https://www.tensorflow.org/api_docs/python/tf/placeholder).\n",
    "* Implement `neural_net_keep_prob_input`\n",
    " * Return a [TF Placeholder](https://www.tensorflow.org/api_docs/python/tf/placeholder) for dropout keep probability.\n",
    " * Name the TensorFlow placeholder \"keep_prob\" using the TensorFlow `name` parameter in the [TF Placeholder](https://www.tensorflow.org/api_docs/python/tf/placeholder).\n",
    "\n",
    "These names will be used at the end of the project to load your saved model.\n",
    "\n",
    "Note: `None` for shapes in TensorFlow allow for a dynamic size."
   ]
  },
  {
   "cell_type": "code",
   "execution_count": 100,
   "metadata": {
    "collapsed": false,
    "deletable": true,
    "editable": true
   },
   "outputs": [
    {
     "name": "stdout",
     "output_type": "stream",
     "text": [
      "Image Input Tests Passed.\n",
      "Label Input Tests Passed.\n",
      "Keep Prob Tests Passed.\n"
     ]
    }
   ],
   "source": [
    "import tensorflow as tf\n",
    "\n",
    "def neural_net_image_input(image_shape):\n",
    "    \"\"\"\n",
    "    Return a Tensor for a batch of image input\n",
    "    : image_shape: Shape of the images\n",
    "    : return: Tensor for image input.\n",
    "    \"\"\"\n",
    "    a = image_shape[0]\n",
    "    b = image_shape[1]\n",
    "    c = image_shape[2]\n",
    "    return tf.placeholder(tf.float32, shape=(None, a, b, c), name='x')\n",
    "\n",
    "\n",
    "def neural_net_label_input(n_classes):\n",
    "    \"\"\"\n",
    "    Return a Tensor for a batch of label input\n",
    "    : n_classes: Number of classes\n",
    "    : return: Tensor for label input.\n",
    "    \"\"\"\n",
    "    # TODO: Implement Function\n",
    "    return tf.placeholder(tf.float32, shape=[None, n_classes], name='y')\n",
    "\n",
    "\n",
    "def neural_net_keep_prob_input():\n",
    "    \"\"\"\n",
    "    Return a Tensor for keep probability\n",
    "    : return: Tensor for keep probability.\n",
    "    \"\"\"\n",
    "    # TODO: Implement Function\n",
    "    return tf.placeholder(tf.float32, name='keep_prob')\n",
    "\n",
    "\n",
    "\"\"\"\n",
    "DON'T MODIFY ANYTHING IN THIS CELL THAT IS BELOW THIS LINE\n",
    "\"\"\"\n",
    "tf.reset_default_graph()\n",
    "tests.test_nn_image_inputs(neural_net_image_input)\n",
    "tests.test_nn_label_inputs(neural_net_label_input)\n",
    "tests.test_nn_keep_prob_inputs(neural_net_keep_prob_input)"
   ]
  },
  {
   "cell_type": "markdown",
   "metadata": {
    "deletable": true,
    "editable": true
   },
   "source": [
    "### Convolution and Max Pooling Layer\n",
    "Convolution layers have a lot of success with images. For this code cell, you should implement the function `conv2d_maxpool` to apply convolution then max pooling:\n",
    "* Create the weight and bias using `conv_ksize`, `conv_num_outputs` and the shape of `x_tensor`.\n",
    "* Apply a convolution to `x_tensor` using weight and `conv_strides`.\n",
    " * We recommend you use same padding, but you're welcome to use any padding.\n",
    "* Add bias\n",
    "* Add a nonlinear activation to the convolution.\n",
    "* Apply Max Pooling using `pool_ksize` and `pool_strides`.\n",
    " * We recommend you use same padding, but you're welcome to use any padding.\n",
    "\n",
    "**Note:** You **can't** use [TensorFlow Layers](https://www.tensorflow.org/api_docs/python/tf/layers) or [TensorFlow Layers (contrib)](https://www.tensorflow.org/api_guides/python/contrib.layers) for **this** layer, but you can still use TensorFlow's [Neural Network](https://www.tensorflow.org/api_docs/python/tf/nn) package. You may still use the shortcut option for all the **other** layers."
   ]
  },
  {
   "cell_type": "code",
   "execution_count": 204,
   "metadata": {
    "collapsed": false,
    "deletable": true,
    "editable": true
   },
   "outputs": [
    {
     "name": "stdout",
     "output_type": "stream",
     "text": [
      "Tests Passed\n"
     ]
    }
   ],
   "source": [
    "def conv2d(x, W, b, strides, p='SAME'):\n",
    "    x = tf.nn.conv2d(x, W, strides=[1, strides[0], strides[1], 1], padding=p)\n",
    "    x = tf.nn.bias_add(x, b)\n",
    "    return tf.nn.relu(x)\n",
    "\n",
    "def maxpool2d(x, ksize, stride, p='SAME'):\n",
    "    return tf.nn.max_pool(x, ksize=[1, ksize[0], ksize[1], 1], strides=[1, stride[0], stride[1], 1], padding=p)\n",
    "\n",
    "def conv2d_maxpool(x_tensor, conv_num_outputs, conv_ksize, conv_strides, pool_ksize, pool_strides):\n",
    "    \"\"\"\n",
    "    Apply convolution then max pooling to x_tensor\n",
    "    :param x_tensor: TensorFlow Tensor\n",
    "    :param conv_num_outputs: Number of output filters for the convolutional layer (new depth)\n",
    "    :param conv_ksize: kernal size 2-D Tuple for the convolutional layer\n",
    "    :param conv_strides: Stride 2-D Tuple for convolution\n",
    "    :param pool_ksize: kernal size 2-D Tuple for pool\n",
    "    :param pool_strides: Stride 2-D Tuple for pool\n",
    "    : return: A tensor that represents convolution and max pooling of x_tensor\n",
    "    \"\"\"\n",
    "    # TODO: Implement Function\n",
    "    #tensor shape\n",
    "    shape = x_tensor.get_shape().as_list()\n",
    "    shape = shape[3]\n",
    "    weights = tf.Variable(tf.truncated_normal([conv_ksize[0], conv_ksize[1], shape, conv_num_outputs], mean=0, \n",
    "                                              stddev=0.05))\n",
    "    bias = tf.Variable(tf.truncated_normal([conv_num_outputs], mean=0, stddev=0.05))\n",
    "    conv = conv2d(x_tensor, weights, bias, conv_strides)\n",
    "    conv = maxpool2d(conv, pool_ksize, pool_strides)\n",
    "    return conv\n",
    "\n",
    "\n",
    "\"\"\"\n",
    "DON'T MODIFY ANYTHING IN THIS CELL THAT IS BELOW THIS LINE\n",
    "\"\"\"\n",
    "tests.test_con_pool(conv2d_maxpool)"
   ]
  },
  {
   "cell_type": "markdown",
   "metadata": {
    "deletable": true,
    "editable": true
   },
   "source": [
    "### Flatten Layer\n",
    "Implement the `flatten` function to change the dimension of `x_tensor` from a 4-D tensor to a 2-D tensor.  The output should be the shape (*Batch Size*, *Flattened Image Size*). Shortcut option: you can use classes from the [TensorFlow Layers](https://www.tensorflow.org/api_docs/python/tf/layers) or [TensorFlow Layers (contrib)](https://www.tensorflow.org/api_guides/python/contrib.layers) packages for this layer. For more of a challenge, only use other TensorFlow packages."
   ]
  },
  {
   "cell_type": "code",
   "execution_count": 102,
   "metadata": {
    "collapsed": false,
    "deletable": true,
    "editable": true
   },
   "outputs": [
    {
     "name": "stdout",
     "output_type": "stream",
     "text": [
      "Tests Passed\n"
     ]
    }
   ],
   "source": [
    "import numpy\n",
    "def flatten(x_tensor):\n",
    "    \"\"\"\n",
    "    Flatten x_tensor to (Batch Size, Flattened Image Size)\n",
    "    : x_tensor: A tensor of size (Batch Size, ...), where ... are the image dimensions.\n",
    "    : return: A tensor of size (Batch Size, Flattened Image Size).\n",
    "    \"\"\"\n",
    "    x = tf.placeholder(tf.float32, shape=[None, 9,2])\n",
    "    shape = x_tensor.get_shape().as_list()        # a list: [None, 9, 2]\n",
    "    dim = numpy.prod(shape[1:])            # dim = prod(9,2) = 18\n",
    "    x2 = tf.reshape(x, [-1, dim])           # -1 means \"all\n",
    "    \n",
    "    return tf.contrib.layers.flatten(x_tensor) \n",
    "\n",
    "\n",
    "\"\"\"\n",
    "DON'T MODIFY ANYTHING IN THIS CELL THAT IS BELOW THIS LINE\n",
    "\"\"\"\n",
    "tests.test_flatten(flatten)"
   ]
  },
  {
   "cell_type": "markdown",
   "metadata": {
    "deletable": true,
    "editable": true
   },
   "source": [
    "### Fully-Connected Layer\n",
    "Implement the `fully_conn` function to apply a fully connected layer to `x_tensor` with the shape (*Batch Size*, *num_outputs*). Shortcut option: you can use classes from the [TensorFlow Layers](https://www.tensorflow.org/api_docs/python/tf/layers) or [TensorFlow Layers (contrib)](https://www.tensorflow.org/api_guides/python/contrib.layers) packages for this layer. For more of a challenge, only use other TensorFlow packages."
   ]
  },
  {
   "cell_type": "code",
   "execution_count": 103,
   "metadata": {
    "collapsed": false,
    "deletable": true,
    "editable": true
   },
   "outputs": [
    {
     "name": "stdout",
     "output_type": "stream",
     "text": [
      "Tests Passed\n"
     ]
    }
   ],
   "source": [
    "def fully_conn(x_tensor, num_outputs):\n",
    "    \"\"\"\n",
    "    Apply a fully connected layer to x_tensor using weight and bias\n",
    "    : x_tensor: A 2-D tensor where the first dimension is batch size.\n",
    "    : num_outputs: The number of output that the new tensor should be.\n",
    "    : return: A 2-D tensor where the second dimension is num_outputs.\n",
    "    \"\"\"\n",
    "    ###Neurons in a fully connected \n",
    "    ##layer have full connections to all activations in the previous layer, \n",
    "    ##as seen in regular Neural Networks.\n",
    "    # TODO: Implement Function\n",
    "    \n",
    "    return tf.contrib.layers.fully_connected(x_tensor, num_outputs)\n",
    "\n",
    "\n",
    "\"\"\"\n",
    "DON'T MODIFY ANYTHING IN THIS CELL THAT IS BELOW THIS LINE\n",
    "\"\"\"\n",
    "tests.test_fully_conn(fully_conn)"
   ]
  },
  {
   "cell_type": "markdown",
   "metadata": {
    "deletable": true,
    "editable": true
   },
   "source": [
    "### Output Layer\n",
    "Implement the `output` function to apply a fully connected layer to `x_tensor` with the shape (*Batch Size*, *num_outputs*). Shortcut option: you can use classes from the [TensorFlow Layers](https://www.tensorflow.org/api_docs/python/tf/layers) or [TensorFlow Layers (contrib)](https://www.tensorflow.org/api_guides/python/contrib.layers) packages for this layer. For more of a challenge, only use other TensorFlow packages.\n",
    "\n",
    "**Note:** Activation, softmax, or cross entropy should **not** be applied to this."
   ]
  },
  {
   "cell_type": "code",
   "execution_count": 104,
   "metadata": {
    "collapsed": false,
    "deletable": true,
    "editable": true
   },
   "outputs": [
    {
     "name": "stdout",
     "output_type": "stream",
     "text": [
      "Tests Passed\n"
     ]
    }
   ],
   "source": [
    "def output(x_tensor, num_outputs):\n",
    "    \"\"\"\n",
    "    Apply a output layer to x_tensor using weight and bias\n",
    "    : x_tensor: A 2-D tensor where the first dimension is batch size.\n",
    "    : num_outputs: The number of output that the new tensor should be.\n",
    "    : return: A 2-D tensor where the second dimension is num_outputs.\n",
    "    \"\"\"\n",
    "    # TODO: Implement Function\n",
    "    \n",
    "    return tf.contrib.layers.fully_connected(x_tensor, num_outputs)\n",
    "\n",
    "\n",
    "\"\"\"\n",
    "DON'T MODIFY ANYTHING IN THIS CELL THAT IS BELOW THIS LINE\n",
    "\"\"\"\n",
    "tests.test_output(output)"
   ]
  },
  {
   "cell_type": "markdown",
   "metadata": {
    "deletable": true,
    "editable": true
   },
   "source": [
    "### Create Convolutional Model\n",
    "Implement the function `conv_net` to create a convolutional neural network model. The function takes in a batch of images, `x`, and outputs logits.  Use the layers you created above to create this model:\n",
    "\n",
    "* Apply 1, 2, or 3 Convolution and Max Pool layers\n",
    "* Apply a Flatten Layer\n",
    "* Apply 1, 2, or 3 Fully Connected Layers\n",
    "* Apply an Output Layer\n",
    "* Return the output\n",
    "* Apply [TensorFlow's Dropout](https://www.tensorflow.org/api_docs/python/tf/nn/dropout) to one or more layers in the model using `keep_prob`. "
   ]
  },
  {
   "cell_type": "code",
   "execution_count": 205,
   "metadata": {
    "collapsed": false,
    "deletable": true,
    "editable": true
   },
   "outputs": [
    {
     "name": "stdout",
     "output_type": "stream",
     "text": [
      "(?, 8, 8, 64)\n",
      "(?, 4, 4, 128)\n",
      "(?, 1, 1, 150)\n",
      "(?, 8, 8, 64)\n",
      "(?, 4, 4, 128)\n",
      "(?, 1, 1, 150)\n",
      "Neural Network Built!\n"
     ]
    }
   ],
   "source": [
    "def conv_net(x, keep_prob):\n",
    "    \"\"\"\n",
    "    Create a convolutional neural network model\n",
    "    : x: Placeholder tensor that holds image data.\n",
    "    : keep_prob: Placeholder tensor that hold dropout keep probability.\n",
    "    : return: Tensor that represents logits\n",
    "    \"\"\"\n",
    "    # TODO: Apply 1, 2, or 3 Convolution and Max Pool layers\n",
    "    #    Play around with different number of outputs, kernel size and stride\n",
    "    conv_num_outputs = 64\n",
    "    conv_ksize = (5, 5)\n",
    "    conv_strides = (2, 2)\n",
    "    pool_ksize = (3, 3)\n",
    "    pool_strides = (2, 2)\n",
    "    # Function Definition from Above:\n",
    "    conv1 = conv2d_maxpool(x, conv_num_outputs, conv_ksize, conv_strides, pool_ksize, pool_strides)\n",
    "    print(conv1.get_shape())\n",
    "    conv1 = tf.nn.dropout(conv1, keep_prob)    \n",
    "    conv2 = conv2d_maxpool(conv1, 128, (2, 2), (1, 1), (2, 2), (2, 2))\n",
    "    conv2 = tf.nn.dropout(conv2, keep_prob)\n",
    "    conv3 = conv2d_maxpool(conv2, 150, (4, 4), (4, 4), (1, 1), (1, 1))\n",
    "    print(conv2.get_shape())\n",
    "    print(conv3.get_shape())\n",
    "\n",
    "    \n",
    "\n",
    "    # TODO: Apply a Flatten Layer\n",
    "    # Function Definition from Above:\n",
    "    flatten_in = flatten(conv3)\n",
    "    \n",
    "\n",
    "    # TODO: Apply 1, 2, or 3 Fully Connected Layers\n",
    "    #    Play around with different number of outputs\n",
    "    num_outputs = 200\n",
    "    # Function Definition from Above:\n",
    "    fullyN = fully_conn(flatten_in, num_outputs)\n",
    "    fullyN = tf.nn.dropout(fullyN, keep_prob)\n",
    "    fullyN = fully_conn(fullyN, 100)\n",
    "\n",
    "    \n",
    "    \n",
    "    # TODO: Apply an Output Layer\n",
    "    #    Set this to the number of classes\n",
    "    #because cifar-10, maybe\n",
    "    num_outputs = 10\n",
    "    # Function Definition from Above:\n",
    "    out = output(fullyN, num_outputs)\n",
    "    \n",
    "    \n",
    "    # TODO: return output\n",
    "    return out\n",
    "\n",
    "\n",
    "\"\"\"\n",
    "DON'T MODIFY ANYTHING IN THIS CELL THAT IS BELOW THIS LINE\n",
    "\"\"\"\n",
    "\n",
    "##############################\n",
    "## Build the Neural Network ##\n",
    "##############################\n",
    "\n",
    "# Remove previous weights, bias, inputs, etc..\n",
    "tf.reset_default_graph()\n",
    "\n",
    "# Inputs\n",
    "x = neural_net_image_input((32, 32, 3))\n",
    "y = neural_net_label_input(10)\n",
    "keep_prob = neural_net_keep_prob_input()\n",
    "\n",
    "# Model\n",
    "logits = conv_net(x, keep_prob)\n",
    "\n",
    "# Name logits Tensor, so that is can be loaded from disk after training\n",
    "logits = tf.identity(logits, name='logits')\n",
    "\n",
    "# Loss and Optimizer\n",
    "cost = tf.reduce_mean(tf.nn.softmax_cross_entropy_with_logits(logits=logits, labels=y))\n",
    "optimizer = tf.train.AdamOptimizer().minimize(cost)\n",
    "\n",
    "# Accuracy\n",
    "correct_pred = tf.equal(tf.argmax(logits, 1), tf.argmax(y, 1))\n",
    "accuracy = tf.reduce_mean(tf.cast(correct_pred, tf.float32), name='accuracy')\n",
    "\n",
    "tests.test_conv_net(conv_net)"
   ]
  },
  {
   "cell_type": "markdown",
   "metadata": {
    "deletable": true,
    "editable": true
   },
   "source": [
    "## Train the Neural Network\n",
    "### Single Optimization\n",
    "Implement the function `train_neural_network` to do a single optimization.  The optimization should use `optimizer` to optimize in `session` with a `feed_dict` of the following:\n",
    "* `x` for image input\n",
    "* `y` for labels\n",
    "* `keep_prob` for keep probability for dropout\n",
    "\n",
    "This function will be called for each batch, so `tf.global_variables_initializer()` has already been called.\n",
    "\n",
    "Note: Nothing needs to be returned. This function is only optimizing the neural network."
   ]
  },
  {
   "cell_type": "code",
   "execution_count": 107,
   "metadata": {
    "collapsed": false,
    "deletable": true,
    "editable": true
   },
   "outputs": [
    {
     "name": "stdout",
     "output_type": "stream",
     "text": [
      "Tests Passed\n"
     ]
    }
   ],
   "source": [
    "def train_neural_network(session, optimizer, keep_probability, feature_batch, label_batch):\n",
    "    \"\"\"\n",
    "    Optimize the session on a batch of images and labels\n",
    "    : session: Current TensorFlow session\n",
    "    : optimizer: TensorFlow optimizer function\n",
    "    : keep_probability: keep probability\n",
    "    : feature_batch: Batch of Numpy image data\n",
    "    : label_batch: Batch of Numpy label data\n",
    "    \"\"\"\n",
    "    return session.run(optimizer, feed_dict={x: feature_batch,\n",
    "                                             y: label_batch,\n",
    "                                             keep_prob: keep_probability})\n",
    "\n",
    "\n",
    "\n",
    "\"\"\"\n",
    "DON'T MODIFY ANYTHING IN THIS CELL THAT IS BELOW THIS LINE\n",
    "\"\"\"\n",
    "tests.test_train_nn(train_neural_network)"
   ]
  },
  {
   "cell_type": "markdown",
   "metadata": {
    "deletable": true,
    "editable": true
   },
   "source": [
    "### Show Stats\n",
    "Implement the function `print_stats` to print loss and validation accuracy.  Use the global variables `valid_features` and `valid_labels` to calculate validation accuracy.  Use a keep probability of `1.0` to calculate the loss and validation accuracy."
   ]
  },
  {
   "cell_type": "code",
   "execution_count": 108,
   "metadata": {
    "collapsed": false,
    "deletable": true,
    "editable": true
   },
   "outputs": [],
   "source": [
    "def print_stats(session, feature_batch, label_batch, cost, accuracy):\n",
    "    \"\"\"\n",
    "    Print information about loss and validation accuracy\n",
    "    : session: Current TensorFlow session\n",
    "    : feature_batch: Batch of Numpy image data\n",
    "    : label_batch: Batch of Numpy label data\n",
    "    : cost: TensorFlow cost function\n",
    "    : accuracy: TensorFlow accuracy function\n",
    "    \"\"\"\n",
    "    # TODO: Implement Function\n",
    "    loss = session.run(cost, feed_dict={x: feature_batch,\n",
    "                                       y: label_batch,\n",
    "                                       keep_prob: 1.})\n",
    "    valid_acc = session.run(accuracy, feed_dict={x: valid_features,\n",
    "                                                y: valid_labels,\n",
    "                                                keep_prob: 1.})\n",
    "    print('Loss: {:>10.4f} Accuracy: {:.6f}'.format(loss,valid_acc))\n",
    "    pass"
   ]
  },
  {
   "cell_type": "markdown",
   "metadata": {
    "deletable": true,
    "editable": true
   },
   "source": [
    "### Hyperparameters\n",
    "Tune the following parameters:\n",
    "* Set `epochs` to the number of iterations until the network stops learning or start overfitting\n",
    "* Set `batch_size` to the highest number that your machine has memory for.  Most people set them to common sizes of memory:\n",
    " * 64\n",
    " * 128\n",
    " * 256\n",
    " * ...\n",
    "* Set `keep_probability` to the probability of keeping a node using dropout"
   ]
  },
  {
   "cell_type": "code",
   "execution_count": 208,
   "metadata": {
    "collapsed": true,
    "deletable": true,
    "editable": true
   },
   "outputs": [],
   "source": [
    "# TODO: Tune Parameters\n",
    "epochs = 100\n",
    "batch_size = 128\n",
    "keep_probability = 0.5"
   ]
  },
  {
   "cell_type": "markdown",
   "metadata": {
    "deletable": true,
    "editable": true
   },
   "source": [
    "### Train on a Single CIFAR-10 Batch\n",
    "Instead of training the neural network on all the CIFAR-10 batches of data, let's use a single batch. This should save time while you iterate on the model to get a better accuracy.  Once the final validation accuracy is 50% or greater, run the model on all the data in the next section."
   ]
  },
  {
   "cell_type": "code",
   "execution_count": 206,
   "metadata": {
    "collapsed": false,
    "deletable": true,
    "editable": true
   },
   "outputs": [
    {
     "name": "stdout",
     "output_type": "stream",
     "text": [
      "Checking the Training on a Single Batch...\n",
      "Epoch  1, CIFAR-10 Batch 1:  Loss:     2.2712 Accuracy: 0.185400\n",
      "Epoch  2, CIFAR-10 Batch 1:  Loss:     2.0484 Accuracy: 0.292400\n",
      "Epoch  3, CIFAR-10 Batch 1:  Loss:     1.9197 Accuracy: 0.362800\n",
      "Epoch  4, CIFAR-10 Batch 1:  Loss:     1.8421 Accuracy: 0.392000\n",
      "Epoch  5, CIFAR-10 Batch 1:  Loss:     1.8308 Accuracy: 0.421600\n",
      "Epoch  6, CIFAR-10 Batch 1:  Loss:     1.7243 Accuracy: 0.432800\n",
      "Epoch  7, CIFAR-10 Batch 1:  Loss:     1.6985 Accuracy: 0.443800\n",
      "Epoch  8, CIFAR-10 Batch 1:  Loss:     1.6333 Accuracy: 0.454800\n",
      "Epoch  9, CIFAR-10 Batch 1:  Loss:     1.5988 Accuracy: 0.462200\n",
      "Epoch 10, CIFAR-10 Batch 1:  Loss:     1.6309 Accuracy: 0.463800\n",
      "Epoch 11, CIFAR-10 Batch 1:  Loss:     1.5672 Accuracy: 0.474000\n",
      "Epoch 12, CIFAR-10 Batch 1:  Loss:     1.5468 Accuracy: 0.474800\n",
      "Epoch 13, CIFAR-10 Batch 1:  Loss:     1.4519 Accuracy: 0.514600\n",
      "Epoch 14, CIFAR-10 Batch 1:  Loss:     1.2908 Accuracy: 0.530000\n",
      "Epoch 15, CIFAR-10 Batch 1:  Loss:     1.2322 Accuracy: 0.547000\n",
      "Epoch 16, CIFAR-10 Batch 1:  Loss:     1.2269 Accuracy: 0.545600\n",
      "Epoch 17, CIFAR-10 Batch 1:  Loss:     1.3043 Accuracy: 0.528200\n",
      "Epoch 18, CIFAR-10 Batch 1:  Loss:     1.2004 Accuracy: 0.550200\n",
      "Epoch 19, CIFAR-10 Batch 1:  Loss:     1.1077 Accuracy: 0.553800\n",
      "Epoch 20, CIFAR-10 Batch 1:  Loss:     1.1413 Accuracy: 0.539600\n",
      "Epoch 21, CIFAR-10 Batch 1:  Loss:     1.0864 Accuracy: 0.560200\n",
      "Epoch 22, CIFAR-10 Batch 1:  Loss:     1.1027 Accuracy: 0.553000\n",
      "Epoch 23, CIFAR-10 Batch 1:  Loss:     1.0525 Accuracy: 0.560400\n",
      "Epoch 24, CIFAR-10 Batch 1:  Loss:     0.9981 Accuracy: 0.578000\n",
      "Epoch 25, CIFAR-10 Batch 1:  Loss:     1.0131 Accuracy: 0.576400\n",
      "Epoch 26, CIFAR-10 Batch 1:  Loss:     0.9419 Accuracy: 0.580800\n",
      "Epoch 27, CIFAR-10 Batch 1:  Loss:     0.9913 Accuracy: 0.580400\n",
      "Epoch 28, CIFAR-10 Batch 1:  Loss:     0.9965 Accuracy: 0.571600\n",
      "Epoch 29, CIFAR-10 Batch 1:  Loss:     0.9127 Accuracy: 0.568200\n",
      "Epoch 30, CIFAR-10 Batch 1:  Loss:     0.9037 Accuracy: 0.585800\n",
      "Epoch 31, CIFAR-10 Batch 1:  Loss:     0.9039 Accuracy: 0.591200\n",
      "Epoch 32, CIFAR-10 Batch 1:  Loss:     0.9346 Accuracy: 0.577800\n",
      "Epoch 33, CIFAR-10 Batch 1:  Loss:     0.8205 Accuracy: 0.586800\n",
      "Epoch 34, CIFAR-10 Batch 1:  Loss:     0.9412 Accuracy: 0.582400\n",
      "Epoch 35, CIFAR-10 Batch 1:  Loss:     0.8489 Accuracy: 0.594200\n",
      "Epoch 36, CIFAR-10 Batch 1:  Loss:     0.8165 Accuracy: 0.593200\n",
      "Epoch 37, CIFAR-10 Batch 1:  Loss:     0.8948 Accuracy: 0.587400\n",
      "Epoch 38, CIFAR-10 Batch 1:  Loss:     0.8153 Accuracy: 0.593600\n",
      "Epoch 39, CIFAR-10 Batch 1:  Loss:     0.8467 Accuracy: 0.600000\n",
      "Epoch 40, CIFAR-10 Batch 1:  Loss:     0.7961 Accuracy: 0.599400\n",
      "Epoch 41, CIFAR-10 Batch 1:  Loss:     0.7474 Accuracy: 0.608000\n",
      "Epoch 42, CIFAR-10 Batch 1:  Loss:     0.7371 Accuracy: 0.602200\n",
      "Epoch 43, CIFAR-10 Batch 1:  Loss:     0.7513 Accuracy: 0.596800\n",
      "Epoch 44, CIFAR-10 Batch 1:  Loss:     0.7647 Accuracy: 0.593800\n",
      "Epoch 45, CIFAR-10 Batch 1:  Loss:     0.7768 Accuracy: 0.604000\n",
      "Epoch 46, CIFAR-10 Batch 1:  Loss:     0.6557 Accuracy: 0.611800\n",
      "Epoch 47, CIFAR-10 Batch 1:  Loss:     0.7278 Accuracy: 0.607800\n",
      "Epoch 48, CIFAR-10 Batch 1:  Loss:     0.7000 Accuracy: 0.599600\n",
      "Epoch 49, CIFAR-10 Batch 1:  Loss:     0.6262 Accuracy: 0.614400\n",
      "Epoch 50, CIFAR-10 Batch 1:  Loss:     0.6527 Accuracy: 0.612800\n",
      "Epoch 51, CIFAR-10 Batch 1:  Loss:     0.6258 Accuracy: 0.608200\n",
      "Epoch 52, CIFAR-10 Batch 1:  Loss:     0.6421 Accuracy: 0.608600\n",
      "Epoch 53, CIFAR-10 Batch 1:  Loss:     0.6169 Accuracy: 0.613000\n",
      "Epoch 54, CIFAR-10 Batch 1:  Loss:     0.6372 Accuracy: 0.616600\n",
      "Epoch 55, CIFAR-10 Batch 1:  Loss:     0.5684 Accuracy: 0.611600\n",
      "Epoch 56, CIFAR-10 Batch 1:  Loss:     0.5574 Accuracy: 0.608000\n",
      "Epoch 57, CIFAR-10 Batch 1:  Loss:     0.5759 Accuracy: 0.609800\n",
      "Epoch 58, CIFAR-10 Batch 1:  Loss:     0.6246 Accuracy: 0.607800\n",
      "Epoch 59, CIFAR-10 Batch 1:  Loss:     0.5627 Accuracy: 0.613200\n",
      "Epoch 60, CIFAR-10 Batch 1:  Loss:     0.5735 Accuracy: 0.615600\n",
      "Epoch 61, CIFAR-10 Batch 1:  Loss:     0.5151 Accuracy: 0.611200\n",
      "Epoch 62, CIFAR-10 Batch 1:  Loss:     0.5422 Accuracy: 0.610800\n",
      "Epoch 63, CIFAR-10 Batch 1:  Loss:     0.5466 Accuracy: 0.612200\n",
      "Epoch 64, CIFAR-10 Batch 1:  Loss:     0.5314 Accuracy: 0.599400\n",
      "Epoch 65, CIFAR-10 Batch 1:  Loss:     0.4768 Accuracy: 0.621800\n",
      "Epoch 66, CIFAR-10 Batch 1:  Loss:     0.4693 Accuracy: 0.616000\n",
      "Epoch 67, CIFAR-10 Batch 1:  Loss:     0.4984 Accuracy: 0.606800\n",
      "Epoch 68, CIFAR-10 Batch 1:  Loss:     0.4555 Accuracy: 0.614400\n",
      "Epoch 69, CIFAR-10 Batch 1:  Loss:     0.4483 Accuracy: 0.614200\n",
      "Epoch 70, CIFAR-10 Batch 1:  Loss:     0.4514 Accuracy: 0.604600\n",
      "Epoch 71, CIFAR-10 Batch 1:  Loss:     0.4044 Accuracy: 0.611400\n",
      "Epoch 72, CIFAR-10 Batch 1:  Loss:     0.3682 Accuracy: 0.613400\n",
      "Epoch 73, CIFAR-10 Batch 1:  Loss:     0.3916 Accuracy: 0.612400\n",
      "Epoch 74, CIFAR-10 Batch 1:  Loss:     0.3690 Accuracy: 0.623400\n",
      "Epoch 75, CIFAR-10 Batch 1:  Loss:     0.4400 Accuracy: 0.610200\n",
      "Epoch 76, CIFAR-10 Batch 1:  Loss:     0.4110 Accuracy: 0.619400\n",
      "Epoch 77, CIFAR-10 Batch 1:  Loss:     0.4120 Accuracy: 0.614400\n",
      "Epoch 78, CIFAR-10 Batch 1:  Loss:     0.3753 Accuracy: 0.615800\n",
      "Epoch 79, CIFAR-10 Batch 1:  Loss:     0.4148 Accuracy: 0.614800\n",
      "Epoch 80, CIFAR-10 Batch 1:  Loss:     0.3112 Accuracy: 0.623400\n",
      "Epoch 81, CIFAR-10 Batch 1:  Loss:     0.4460 Accuracy: 0.612200\n",
      "Epoch 82, CIFAR-10 Batch 1:  Loss:     0.3941 Accuracy: 0.617000\n",
      "Epoch 83, CIFAR-10 Batch 1:  Loss:     0.3997 Accuracy: 0.625000\n",
      "Epoch 84, CIFAR-10 Batch 1:  Loss:     0.3923 Accuracy: 0.602800\n",
      "Epoch 85, CIFAR-10 Batch 1:  Loss:     0.3058 Accuracy: 0.617000\n",
      "Epoch 86, CIFAR-10 Batch 1:  Loss:     0.2872 Accuracy: 0.614000\n",
      "Epoch 87, CIFAR-10 Batch 1:  Loss:     0.2910 Accuracy: 0.619200\n",
      "Epoch 88, CIFAR-10 Batch 1:  Loss:     0.2813 Accuracy: 0.618800\n",
      "Epoch 89, CIFAR-10 Batch 1:  Loss:     0.3007 Accuracy: 0.617000\n",
      "Epoch 90, CIFAR-10 Batch 1:  Loss:     0.2905 Accuracy: 0.617000\n",
      "Epoch 91, CIFAR-10 Batch 1:  Loss:     0.2991 Accuracy: 0.613200\n",
      "Epoch 92, CIFAR-10 Batch 1:  Loss:     0.2687 Accuracy: 0.623000\n",
      "Epoch 93, CIFAR-10 Batch 1:  Loss:     0.2478 Accuracy: 0.622000\n",
      "Epoch 94, CIFAR-10 Batch 1:  Loss:     0.2827 Accuracy: 0.610000\n",
      "Epoch 95, CIFAR-10 Batch 1:  Loss:     0.2242 Accuracy: 0.610000\n",
      "Epoch 96, CIFAR-10 Batch 1:  Loss:     0.2942 Accuracy: 0.597400\n",
      "Epoch 97, CIFAR-10 Batch 1:  Loss:     0.2800 Accuracy: 0.610000\n",
      "Epoch 98, CIFAR-10 Batch 1:  Loss:     0.2860 Accuracy: 0.609000\n",
      "Epoch 99, CIFAR-10 Batch 1:  Loss:     0.2203 Accuracy: 0.612600\n",
      "Epoch 100, CIFAR-10 Batch 1:  Loss:     0.2272 Accuracy: 0.615800\n"
     ]
    }
   ],
   "source": [
    "\"\"\"\n",
    "DON'T MODIFY ANYTHING IN THIS CELL\n",
    "\"\"\"\n",
    "print('Checking the Training on a Single Batch...')\n",
    "with tf.Session() as sess:\n",
    "    # Initializing the variables\n",
    "    sess.run(tf.global_variables_initializer())\n",
    "    \n",
    "    # Training cycle\n",
    "    for epoch in range(epochs):\n",
    "        batch_i = 1\n",
    "        for batch_features, batch_labels in helper.load_preprocess_training_batch(batch_i, batch_size):\n",
    "            train_neural_network(sess, optimizer, keep_probability, batch_features, batch_labels)\n",
    "        print('Epoch {:>2}, CIFAR-10 Batch {}:  '.format(epoch + 1, batch_i), end='')\n",
    "        print_stats(sess, batch_features, batch_labels, cost, accuracy)"
   ]
  },
  {
   "cell_type": "markdown",
   "metadata": {
    "deletable": true,
    "editable": true
   },
   "source": [
    "### Fully Train the Model\n",
    "Now that you got a good accuracy with a single CIFAR-10 batch, try it with all five batches."
   ]
  },
  {
   "cell_type": "code",
   "execution_count": 209,
   "metadata": {
    "collapsed": false,
    "deletable": true,
    "editable": true
   },
   "outputs": [
    {
     "name": "stdout",
     "output_type": "stream",
     "text": [
      "Training...\n",
      "Epoch  1, CIFAR-10 Batch 1:  Loss:     2.3019 Accuracy: 0.098800\n",
      "Epoch  1, CIFAR-10 Batch 2:  Loss:     2.2883 Accuracy: 0.134400\n",
      "Epoch  1, CIFAR-10 Batch 3:  Loss:     2.2228 Accuracy: 0.267000\n",
      "Epoch  1, CIFAR-10 Batch 4:  Loss:     1.9712 Accuracy: 0.330800\n",
      "Epoch  1, CIFAR-10 Batch 5:  Loss:     1.8926 Accuracy: 0.370600\n",
      "Epoch  2, CIFAR-10 Batch 1:  Loss:     1.8544 Accuracy: 0.407600\n",
      "Epoch  2, CIFAR-10 Batch 2:  Loss:     1.8256 Accuracy: 0.413000\n",
      "Epoch  2, CIFAR-10 Batch 3:  Loss:     1.6855 Accuracy: 0.387000\n",
      "Epoch  2, CIFAR-10 Batch 4:  Loss:     1.5424 Accuracy: 0.460000\n",
      "Epoch  2, CIFAR-10 Batch 5:  Loss:     1.5741 Accuracy: 0.466000\n",
      "Epoch  3, CIFAR-10 Batch 1:  Loss:     1.5696 Accuracy: 0.494400\n",
      "Epoch  3, CIFAR-10 Batch 2:  Loss:     1.3870 Accuracy: 0.496600\n",
      "Epoch  3, CIFAR-10 Batch 3:  Loss:     1.2905 Accuracy: 0.494000\n",
      "Epoch  3, CIFAR-10 Batch 4:  Loss:     1.3778 Accuracy: 0.519600\n",
      "Epoch  3, CIFAR-10 Batch 5:  Loss:     1.4053 Accuracy: 0.515200\n",
      "Epoch  4, CIFAR-10 Batch 1:  Loss:     1.4127 Accuracy: 0.526200\n",
      "Epoch  4, CIFAR-10 Batch 2:  Loss:     1.2890 Accuracy: 0.517200\n",
      "Epoch  4, CIFAR-10 Batch 3:  Loss:     1.1959 Accuracy: 0.516400\n",
      "Epoch  4, CIFAR-10 Batch 4:  Loss:     1.2958 Accuracy: 0.549200\n",
      "Epoch  4, CIFAR-10 Batch 5:  Loss:     1.3535 Accuracy: 0.544200\n",
      "Epoch  5, CIFAR-10 Batch 1:  Loss:     1.3073 Accuracy: 0.559000\n",
      "Epoch  5, CIFAR-10 Batch 2:  Loss:     1.2639 Accuracy: 0.551000\n",
      "Epoch  5, CIFAR-10 Batch 3:  Loss:     1.1548 Accuracy: 0.563000\n",
      "Epoch  5, CIFAR-10 Batch 4:  Loss:     1.2079 Accuracy: 0.574800\n",
      "Epoch  5, CIFAR-10 Batch 5:  Loss:     1.2696 Accuracy: 0.554600\n",
      "Epoch  6, CIFAR-10 Batch 1:  Loss:     1.1724 Accuracy: 0.578000\n",
      "Epoch  6, CIFAR-10 Batch 2:  Loss:     1.1587 Accuracy: 0.573800\n",
      "Epoch  6, CIFAR-10 Batch 3:  Loss:     1.0907 Accuracy: 0.579000\n",
      "Epoch  6, CIFAR-10 Batch 4:  Loss:     1.1704 Accuracy: 0.579000\n",
      "Epoch  6, CIFAR-10 Batch 5:  Loss:     1.1940 Accuracy: 0.559200\n",
      "Epoch  7, CIFAR-10 Batch 1:  Loss:     1.0707 Accuracy: 0.599400\n",
      "Epoch  7, CIFAR-10 Batch 2:  Loss:     1.1370 Accuracy: 0.600200\n",
      "Epoch  7, CIFAR-10 Batch 3:  Loss:     1.1213 Accuracy: 0.583400\n",
      "Epoch  7, CIFAR-10 Batch 4:  Loss:     1.1348 Accuracy: 0.585600\n",
      "Epoch  7, CIFAR-10 Batch 5:  Loss:     1.1538 Accuracy: 0.579800\n",
      "Epoch  8, CIFAR-10 Batch 1:  Loss:     1.0540 Accuracy: 0.604000\n",
      "Epoch  8, CIFAR-10 Batch 2:  Loss:     1.0636 Accuracy: 0.606000\n",
      "Epoch  8, CIFAR-10 Batch 3:  Loss:     1.0317 Accuracy: 0.604800\n",
      "Epoch  8, CIFAR-10 Batch 4:  Loss:     1.0497 Accuracy: 0.619400\n",
      "Epoch  8, CIFAR-10 Batch 5:  Loss:     1.0697 Accuracy: 0.601800\n",
      "Epoch  9, CIFAR-10 Batch 1:  Loss:     0.9962 Accuracy: 0.618000\n",
      "Epoch  9, CIFAR-10 Batch 2:  Loss:     1.0899 Accuracy: 0.618600\n",
      "Epoch  9, CIFAR-10 Batch 3:  Loss:     0.9676 Accuracy: 0.625200\n",
      "Epoch  9, CIFAR-10 Batch 4:  Loss:     1.0246 Accuracy: 0.625800\n",
      "Epoch  9, CIFAR-10 Batch 5:  Loss:     1.1555 Accuracy: 0.608000\n",
      "Epoch 10, CIFAR-10 Batch 1:  Loss:     0.9845 Accuracy: 0.630600\n",
      "Epoch 10, CIFAR-10 Batch 2:  Loss:     1.0162 Accuracy: 0.626000\n",
      "Epoch 10, CIFAR-10 Batch 3:  Loss:     0.9432 Accuracy: 0.625400\n",
      "Epoch 10, CIFAR-10 Batch 4:  Loss:     0.9742 Accuracy: 0.640600\n",
      "Epoch 10, CIFAR-10 Batch 5:  Loss:     1.1200 Accuracy: 0.605800\n",
      "Epoch 11, CIFAR-10 Batch 1:  Loss:     0.9155 Accuracy: 0.638400\n",
      "Epoch 11, CIFAR-10 Batch 2:  Loss:     0.9488 Accuracy: 0.637400\n",
      "Epoch 11, CIFAR-10 Batch 3:  Loss:     0.9130 Accuracy: 0.635800\n",
      "Epoch 11, CIFAR-10 Batch 4:  Loss:     0.9400 Accuracy: 0.643000\n",
      "Epoch 11, CIFAR-10 Batch 5:  Loss:     0.9386 Accuracy: 0.631800\n",
      "Epoch 12, CIFAR-10 Batch 1:  Loss:     0.9007 Accuracy: 0.648000\n",
      "Epoch 12, CIFAR-10 Batch 2:  Loss:     0.9972 Accuracy: 0.632000\n",
      "Epoch 12, CIFAR-10 Batch 3:  Loss:     0.8813 Accuracy: 0.636200\n",
      "Epoch 12, CIFAR-10 Batch 4:  Loss:     0.8370 Accuracy: 0.650000\n",
      "Epoch 12, CIFAR-10 Batch 5:  Loss:     0.9299 Accuracy: 0.643200\n",
      "Epoch 13, CIFAR-10 Batch 1:  Loss:     0.8423 Accuracy: 0.651800\n",
      "Epoch 13, CIFAR-10 Batch 2:  Loss:     0.9260 Accuracy: 0.647200\n",
      "Epoch 13, CIFAR-10 Batch 3:  Loss:     0.8183 Accuracy: 0.655200\n",
      "Epoch 13, CIFAR-10 Batch 4:  Loss:     0.8093 Accuracy: 0.654200\n",
      "Epoch 13, CIFAR-10 Batch 5:  Loss:     0.9084 Accuracy: 0.647000\n",
      "Epoch 14, CIFAR-10 Batch 1:  Loss:     0.8310 Accuracy: 0.660200\n",
      "Epoch 14, CIFAR-10 Batch 2:  Loss:     0.9052 Accuracy: 0.646000\n",
      "Epoch 14, CIFAR-10 Batch 3:  Loss:     0.7890 Accuracy: 0.650200\n",
      "Epoch 14, CIFAR-10 Batch 4:  Loss:     0.8387 Accuracy: 0.650800\n",
      "Epoch 14, CIFAR-10 Batch 5:  Loss:     0.8289 Accuracy: 0.660600\n",
      "Epoch 15, CIFAR-10 Batch 1:  Loss:     0.8372 Accuracy: 0.652200\n",
      "Epoch 15, CIFAR-10 Batch 2:  Loss:     0.8830 Accuracy: 0.658400\n",
      "Epoch 15, CIFAR-10 Batch 3:  Loss:     0.7307 Accuracy: 0.663600\n",
      "Epoch 15, CIFAR-10 Batch 4:  Loss:     0.7372 Accuracy: 0.655800\n",
      "Epoch 15, CIFAR-10 Batch 5:  Loss:     0.7996 Accuracy: 0.665200\n",
      "Epoch 16, CIFAR-10 Batch 1:  Loss:     0.8040 Accuracy: 0.659600\n",
      "Epoch 16, CIFAR-10 Batch 2:  Loss:     0.8477 Accuracy: 0.663200\n",
      "Epoch 16, CIFAR-10 Batch 3:  Loss:     0.6646 Accuracy: 0.676200\n",
      "Epoch 16, CIFAR-10 Batch 4:  Loss:     0.7399 Accuracy: 0.671200\n",
      "Epoch 16, CIFAR-10 Batch 5:  Loss:     0.7746 Accuracy: 0.658200\n",
      "Epoch 17, CIFAR-10 Batch 1:  Loss:     0.7869 Accuracy: 0.674200\n",
      "Epoch 17, CIFAR-10 Batch 2:  Loss:     0.8279 Accuracy: 0.665200\n",
      "Epoch 17, CIFAR-10 Batch 3:  Loss:     0.7038 Accuracy: 0.664600\n",
      "Epoch 17, CIFAR-10 Batch 4:  Loss:     0.7431 Accuracy: 0.667200\n",
      "Epoch 17, CIFAR-10 Batch 5:  Loss:     0.7187 Accuracy: 0.669800\n",
      "Epoch 18, CIFAR-10 Batch 1:  Loss:     0.7721 Accuracy: 0.671600\n",
      "Epoch 18, CIFAR-10 Batch 2:  Loss:     0.7767 Accuracy: 0.678000\n",
      "Epoch 18, CIFAR-10 Batch 3:  Loss:     0.6640 Accuracy: 0.677800\n",
      "Epoch 18, CIFAR-10 Batch 4:  Loss:     0.6941 Accuracy: 0.684000\n",
      "Epoch 18, CIFAR-10 Batch 5:  Loss:     0.7894 Accuracy: 0.666400\n",
      "Epoch 19, CIFAR-10 Batch 1:  Loss:     0.8020 Accuracy: 0.660200\n",
      "Epoch 19, CIFAR-10 Batch 2:  Loss:     0.7888 Accuracy: 0.679000\n",
      "Epoch 19, CIFAR-10 Batch 3:  Loss:     0.6781 Accuracy: 0.674600\n",
      "Epoch 19, CIFAR-10 Batch 4:  Loss:     0.6924 Accuracy: 0.679800\n",
      "Epoch 19, CIFAR-10 Batch 5:  Loss:     0.8020 Accuracy: 0.683800\n",
      "Epoch 20, CIFAR-10 Batch 1:  Loss:     0.7851 Accuracy: 0.682000\n",
      "Epoch 20, CIFAR-10 Batch 2:  Loss:     0.7695 Accuracy: 0.690800\n",
      "Epoch 20, CIFAR-10 Batch 3:  Loss:     0.6356 Accuracy: 0.684200\n",
      "Epoch 20, CIFAR-10 Batch 4:  Loss:     0.6460 Accuracy: 0.686600\n",
      "Epoch 20, CIFAR-10 Batch 5:  Loss:     0.7787 Accuracy: 0.672200\n",
      "Epoch 21, CIFAR-10 Batch 1:  Loss:     0.7243 Accuracy: 0.682600\n",
      "Epoch 21, CIFAR-10 Batch 2:  Loss:     0.8548 Accuracy: 0.677600\n",
      "Epoch 21, CIFAR-10 Batch 3:  Loss:     0.5785 Accuracy: 0.688000\n",
      "Epoch 21, CIFAR-10 Batch 4:  Loss:     0.6425 Accuracy: 0.691400\n",
      "Epoch 21, CIFAR-10 Batch 5:  Loss:     0.7327 Accuracy: 0.677000\n",
      "Epoch 22, CIFAR-10 Batch 1:  Loss:     0.7371 Accuracy: 0.691400\n",
      "Epoch 22, CIFAR-10 Batch 2:  Loss:     0.7891 Accuracy: 0.688800\n",
      "Epoch 22, CIFAR-10 Batch 3:  Loss:     0.5660 Accuracy: 0.687600\n",
      "Epoch 22, CIFAR-10 Batch 4:  Loss:     0.6396 Accuracy: 0.685800\n",
      "Epoch 22, CIFAR-10 Batch 5:  Loss:     0.6708 Accuracy: 0.678200\n",
      "Epoch 23, CIFAR-10 Batch 1:  Loss:     0.7021 Accuracy: 0.683600\n",
      "Epoch 23, CIFAR-10 Batch 2:  Loss:     0.7714 Accuracy: 0.674200\n",
      "Epoch 23, CIFAR-10 Batch 3:  Loss:     0.5395 Accuracy: 0.698600\n",
      "Epoch 23, CIFAR-10 Batch 4:  Loss:     0.5850 Accuracy: 0.699800\n",
      "Epoch 23, CIFAR-10 Batch 5:  Loss:     0.6875 Accuracy: 0.679800\n",
      "Epoch 24, CIFAR-10 Batch 1:  Loss:     0.6697 Accuracy: 0.691800\n",
      "Epoch 24, CIFAR-10 Batch 2:  Loss:     0.7543 Accuracy: 0.696600\n",
      "Epoch 24, CIFAR-10 Batch 3:  Loss:     0.5558 Accuracy: 0.697200\n",
      "Epoch 24, CIFAR-10 Batch 4:  Loss:     0.6137 Accuracy: 0.694600\n",
      "Epoch 24, CIFAR-10 Batch 5:  Loss:     0.6727 Accuracy: 0.684000\n",
      "Epoch 25, CIFAR-10 Batch 1:  Loss:     0.6883 Accuracy: 0.699400\n",
      "Epoch 25, CIFAR-10 Batch 2:  Loss:     0.7725 Accuracy: 0.682000\n",
      "Epoch 25, CIFAR-10 Batch 3:  Loss:     0.5790 Accuracy: 0.690600\n",
      "Epoch 25, CIFAR-10 Batch 4:  Loss:     0.5919 Accuracy: 0.693200\n",
      "Epoch 25, CIFAR-10 Batch 5:  Loss:     0.6347 Accuracy: 0.703600\n",
      "Epoch 26, CIFAR-10 Batch 1:  Loss:     0.6380 Accuracy: 0.692000\n",
      "Epoch 26, CIFAR-10 Batch 2:  Loss:     0.7429 Accuracy: 0.696400\n",
      "Epoch 26, CIFAR-10 Batch 3:  Loss:     0.5265 Accuracy: 0.702400\n",
      "Epoch 26, CIFAR-10 Batch 4:  Loss:     0.6031 Accuracy: 0.696200\n",
      "Epoch 26, CIFAR-10 Batch 5:  Loss:     0.6881 Accuracy: 0.684200\n",
      "Epoch 27, CIFAR-10 Batch 1:  Loss:     0.6655 Accuracy: 0.697800\n",
      "Epoch 27, CIFAR-10 Batch 2:  Loss:     0.7286 Accuracy: 0.699000\n",
      "Epoch 27, CIFAR-10 Batch 3:  Loss:     0.5121 Accuracy: 0.704200\n",
      "Epoch 27, CIFAR-10 Batch 4:  Loss:     0.5616 Accuracy: 0.709400\n",
      "Epoch 27, CIFAR-10 Batch 5:  Loss:     0.6745 Accuracy: 0.692000\n",
      "Epoch 28, CIFAR-10 Batch 1:  Loss:     0.6348 Accuracy: 0.694400\n",
      "Epoch 28, CIFAR-10 Batch 2:  Loss:     0.7356 Accuracy: 0.695000\n",
      "Epoch 28, CIFAR-10 Batch 3:  Loss:     0.5314 Accuracy: 0.705400\n",
      "Epoch 28, CIFAR-10 Batch 4:  Loss:     0.5110 Accuracy: 0.708000\n",
      "Epoch 28, CIFAR-10 Batch 5:  Loss:     0.6260 Accuracy: 0.692200\n",
      "Epoch 29, CIFAR-10 Batch 1:  Loss:     0.6061 Accuracy: 0.699600\n",
      "Epoch 29, CIFAR-10 Batch 2:  Loss:     0.7189 Accuracy: 0.696000\n",
      "Epoch 29, CIFAR-10 Batch 3:  Loss:     0.5043 Accuracy: 0.706600\n",
      "Epoch 29, CIFAR-10 Batch 4:  Loss:     0.5923 Accuracy: 0.707400\n",
      "Epoch 29, CIFAR-10 Batch 5:  Loss:     0.6619 Accuracy: 0.703400\n",
      "Epoch 30, CIFAR-10 Batch 1:  Loss:     0.5864 Accuracy: 0.708600\n",
      "Epoch 30, CIFAR-10 Batch 2:  Loss:     0.7633 Accuracy: 0.700400\n",
      "Epoch 30, CIFAR-10 Batch 3:  Loss:     0.5558 Accuracy: 0.694400\n",
      "Epoch 30, CIFAR-10 Batch 4:  Loss:     0.5756 Accuracy: 0.703400\n",
      "Epoch 30, CIFAR-10 Batch 5:  Loss:     0.5756 Accuracy: 0.706000\n",
      "Epoch 31, CIFAR-10 Batch 1:  Loss:     0.5756 Accuracy: 0.706200\n",
      "Epoch 31, CIFAR-10 Batch 2:  Loss:     0.7207 Accuracy: 0.692800\n",
      "Epoch 31, CIFAR-10 Batch 3:  Loss:     0.4805 Accuracy: 0.711000\n",
      "Epoch 31, CIFAR-10 Batch 4:  Loss:     0.5155 Accuracy: 0.717400\n",
      "Epoch 31, CIFAR-10 Batch 5:  Loss:     0.5402 Accuracy: 0.708600\n",
      "Epoch 32, CIFAR-10 Batch 1:  Loss:     0.6042 Accuracy: 0.707600\n",
      "Epoch 32, CIFAR-10 Batch 2:  Loss:     0.6396 Accuracy: 0.708000\n",
      "Epoch 32, CIFAR-10 Batch 3:  Loss:     0.4956 Accuracy: 0.707600\n",
      "Epoch 32, CIFAR-10 Batch 4:  Loss:     0.4972 Accuracy: 0.707600\n",
      "Epoch 32, CIFAR-10 Batch 5:  Loss:     0.5743 Accuracy: 0.702400\n",
      "Epoch 33, CIFAR-10 Batch 1:  Loss:     0.6080 Accuracy: 0.702000\n",
      "Epoch 33, CIFAR-10 Batch 2:  Loss:     0.6223 Accuracy: 0.707000\n",
      "Epoch 33, CIFAR-10 Batch 3:  Loss:     0.4857 Accuracy: 0.699200\n",
      "Epoch 33, CIFAR-10 Batch 4:  Loss:     0.5134 Accuracy: 0.709000\n",
      "Epoch 33, CIFAR-10 Batch 5:  Loss:     0.5546 Accuracy: 0.710000\n",
      "Epoch 34, CIFAR-10 Batch 1:  Loss:     0.5991 Accuracy: 0.714200\n",
      "Epoch 34, CIFAR-10 Batch 2:  Loss:     0.6322 Accuracy: 0.705200\n",
      "Epoch 34, CIFAR-10 Batch 3:  Loss:     0.4414 Accuracy: 0.717000\n",
      "Epoch 34, CIFAR-10 Batch 4:  Loss:     0.4902 Accuracy: 0.710600\n",
      "Epoch 34, CIFAR-10 Batch 5:  Loss:     0.5727 Accuracy: 0.704800\n",
      "Epoch 35, CIFAR-10 Batch 1:  Loss:     0.5752 Accuracy: 0.722000\n",
      "Epoch 35, CIFAR-10 Batch 2:  Loss:     0.7346 Accuracy: 0.713200\n",
      "Epoch 35, CIFAR-10 Batch 3:  Loss:     0.4844 Accuracy: 0.718400\n",
      "Epoch 35, CIFAR-10 Batch 4:  Loss:     0.4421 Accuracy: 0.715600\n",
      "Epoch 35, CIFAR-10 Batch 5:  Loss:     0.5117 Accuracy: 0.714000\n",
      "Epoch 36, CIFAR-10 Batch 1:  Loss:     0.6121 Accuracy: 0.709400\n",
      "Epoch 36, CIFAR-10 Batch 2:  Loss:     0.6611 Accuracy: 0.704400\n",
      "Epoch 36, CIFAR-10 Batch 3:  Loss:     0.4614 Accuracy: 0.706800\n",
      "Epoch 36, CIFAR-10 Batch 4:  Loss:     0.4264 Accuracy: 0.716800\n",
      "Epoch 36, CIFAR-10 Batch 5:  Loss:     0.5070 Accuracy: 0.703600\n",
      "Epoch 37, CIFAR-10 Batch 1:  Loss:     0.5807 Accuracy: 0.715800\n",
      "Epoch 37, CIFAR-10 Batch 2:  Loss:     0.6711 Accuracy: 0.719000\n",
      "Epoch 37, CIFAR-10 Batch 3:  Loss:     0.4699 Accuracy: 0.715200\n",
      "Epoch 37, CIFAR-10 Batch 4:  Loss:     0.4424 Accuracy: 0.706200\n",
      "Epoch 37, CIFAR-10 Batch 5:  Loss:     0.5417 Accuracy: 0.711600\n",
      "Epoch 38, CIFAR-10 Batch 1:  Loss:     0.5747 Accuracy: 0.720400\n",
      "Epoch 38, CIFAR-10 Batch 2:  Loss:     0.6726 Accuracy: 0.709200\n",
      "Epoch 38, CIFAR-10 Batch 3:  Loss:     0.4426 Accuracy: 0.714600\n",
      "Epoch 38, CIFAR-10 Batch 4:  Loss:     0.4370 Accuracy: 0.718400\n",
      "Epoch 38, CIFAR-10 Batch 5:  Loss:     0.4907 Accuracy: 0.705400\n",
      "Epoch 39, CIFAR-10 Batch 1:  Loss:     0.5743 Accuracy: 0.713400\n",
      "Epoch 39, CIFAR-10 Batch 2:  Loss:     0.6540 Accuracy: 0.714800\n",
      "Epoch 39, CIFAR-10 Batch 3:  Loss:     0.4177 Accuracy: 0.711800\n",
      "Epoch 39, CIFAR-10 Batch 4:  Loss:     0.4210 Accuracy: 0.719400\n",
      "Epoch 39, CIFAR-10 Batch 5:  Loss:     0.5659 Accuracy: 0.698400\n",
      "Epoch 40, CIFAR-10 Batch 1:  Loss:     0.5738 Accuracy: 0.722600\n",
      "Epoch 40, CIFAR-10 Batch 2:  Loss:     0.6149 Accuracy: 0.715800\n",
      "Epoch 40, CIFAR-10 Batch 3:  Loss:     0.4132 Accuracy: 0.711400\n",
      "Epoch 40, CIFAR-10 Batch 4:  Loss:     0.4410 Accuracy: 0.719800\n",
      "Epoch 40, CIFAR-10 Batch 5:  Loss:     0.5204 Accuracy: 0.702200\n",
      "Epoch 41, CIFAR-10 Batch 1:  Loss:     0.5776 Accuracy: 0.717400\n",
      "Epoch 41, CIFAR-10 Batch 2:  Loss:     0.6449 Accuracy: 0.721000\n",
      "Epoch 41, CIFAR-10 Batch 3:  Loss:     0.3876 Accuracy: 0.717600\n",
      "Epoch 41, CIFAR-10 Batch 4:  Loss:     0.3716 Accuracy: 0.719000\n",
      "Epoch 41, CIFAR-10 Batch 5:  Loss:     0.4717 Accuracy: 0.715400\n",
      "Epoch 42, CIFAR-10 Batch 1:  Loss:     0.5328 Accuracy: 0.717000\n",
      "Epoch 42, CIFAR-10 Batch 2:  Loss:     0.5823 Accuracy: 0.718600\n",
      "Epoch 42, CIFAR-10 Batch 3:  Loss:     0.4169 Accuracy: 0.716000\n",
      "Epoch 42, CIFAR-10 Batch 4:  Loss:     0.3782 Accuracy: 0.724400\n",
      "Epoch 42, CIFAR-10 Batch 5:  Loss:     0.4729 Accuracy: 0.718400\n",
      "Epoch 43, CIFAR-10 Batch 1:  Loss:     0.5615 Accuracy: 0.724400\n",
      "Epoch 43, CIFAR-10 Batch 2:  Loss:     0.5720 Accuracy: 0.721600\n",
      "Epoch 43, CIFAR-10 Batch 3:  Loss:     0.4171 Accuracy: 0.719000\n",
      "Epoch 43, CIFAR-10 Batch 4:  Loss:     0.4047 Accuracy: 0.723800\n",
      "Epoch 43, CIFAR-10 Batch 5:  Loss:     0.4692 Accuracy: 0.716200\n",
      "Epoch 44, CIFAR-10 Batch 1:  Loss:     0.5301 Accuracy: 0.718600\n",
      "Epoch 44, CIFAR-10 Batch 2:  Loss:     0.6152 Accuracy: 0.717400\n",
      "Epoch 44, CIFAR-10 Batch 3:  Loss:     0.3800 Accuracy: 0.718400\n",
      "Epoch 44, CIFAR-10 Batch 4:  Loss:     0.3923 Accuracy: 0.716400\n",
      "Epoch 44, CIFAR-10 Batch 5:  Loss:     0.4968 Accuracy: 0.708200\n",
      "Epoch 45, CIFAR-10 Batch 1:  Loss:     0.5139 Accuracy: 0.721800\n",
      "Epoch 45, CIFAR-10 Batch 2:  Loss:     0.5758 Accuracy: 0.730400\n",
      "Epoch 45, CIFAR-10 Batch 3:  Loss:     0.3689 Accuracy: 0.724600\n",
      "Epoch 45, CIFAR-10 Batch 4:  Loss:     0.4117 Accuracy: 0.724800\n",
      "Epoch 45, CIFAR-10 Batch 5:  Loss:     0.4539 Accuracy: 0.717400\n",
      "Epoch 46, CIFAR-10 Batch 1:  Loss:     0.5438 Accuracy: 0.720600\n",
      "Epoch 46, CIFAR-10 Batch 2:  Loss:     0.5955 Accuracy: 0.719800\n",
      "Epoch 46, CIFAR-10 Batch 3:  Loss:     0.3969 Accuracy: 0.721000\n",
      "Epoch 46, CIFAR-10 Batch 4:  Loss:     0.4057 Accuracy: 0.728400\n",
      "Epoch 46, CIFAR-10 Batch 5:  Loss:     0.4704 Accuracy: 0.709800\n",
      "Epoch 47, CIFAR-10 Batch 1:  Loss:     0.5239 Accuracy: 0.720400\n",
      "Epoch 47, CIFAR-10 Batch 2:  Loss:     0.5913 Accuracy: 0.723600\n",
      "Epoch 47, CIFAR-10 Batch 3:  Loss:     0.3936 Accuracy: 0.727200\n",
      "Epoch 47, CIFAR-10 Batch 4:  Loss:     0.4156 Accuracy: 0.722400\n",
      "Epoch 47, CIFAR-10 Batch 5:  Loss:     0.4324 Accuracy: 0.712600\n",
      "Epoch 48, CIFAR-10 Batch 1:  Loss:     0.5278 Accuracy: 0.717200\n",
      "Epoch 48, CIFAR-10 Batch 2:  Loss:     0.5799 Accuracy: 0.727800\n",
      "Epoch 48, CIFAR-10 Batch 3:  Loss:     0.4563 Accuracy: 0.719000\n",
      "Epoch 48, CIFAR-10 Batch 4:  Loss:     0.3791 Accuracy: 0.726400\n",
      "Epoch 48, CIFAR-10 Batch 5:  Loss:     0.4419 Accuracy: 0.719400\n",
      "Epoch 49, CIFAR-10 Batch 1:  Loss:     0.5349 Accuracy: 0.727400\n",
      "Epoch 49, CIFAR-10 Batch 2:  Loss:     0.5597 Accuracy: 0.723600\n",
      "Epoch 49, CIFAR-10 Batch 3:  Loss:     0.3668 Accuracy: 0.725400\n",
      "Epoch 49, CIFAR-10 Batch 4:  Loss:     0.4637 Accuracy: 0.731000\n",
      "Epoch 49, CIFAR-10 Batch 5:  Loss:     0.4215 Accuracy: 0.724000\n",
      "Epoch 50, CIFAR-10 Batch 1:  Loss:     0.5073 Accuracy: 0.731400\n",
      "Epoch 50, CIFAR-10 Batch 2:  Loss:     0.5168 Accuracy: 0.724600\n",
      "Epoch 50, CIFAR-10 Batch 3:  Loss:     0.3732 Accuracy: 0.721800\n",
      "Epoch 50, CIFAR-10 Batch 4:  Loss:     0.3501 Accuracy: 0.721000\n",
      "Epoch 50, CIFAR-10 Batch 5:  Loss:     0.4038 Accuracy: 0.718000\n",
      "Epoch 51, CIFAR-10 Batch 1:  Loss:     0.4926 Accuracy: 0.720200\n",
      "Epoch 51, CIFAR-10 Batch 2:  Loss:     0.5763 Accuracy: 0.729800\n",
      "Epoch 51, CIFAR-10 Batch 3:  Loss:     0.3790 Accuracy: 0.734800\n",
      "Epoch 51, CIFAR-10 Batch 4:  Loss:     0.2985 Accuracy: 0.734200\n",
      "Epoch 51, CIFAR-10 Batch 5:  Loss:     0.4590 Accuracy: 0.711000\n",
      "Epoch 52, CIFAR-10 Batch 1:  Loss:     0.4846 Accuracy: 0.723200\n",
      "Epoch 52, CIFAR-10 Batch 2:  Loss:     0.5209 Accuracy: 0.724200\n",
      "Epoch 52, CIFAR-10 Batch 3:  Loss:     0.3361 Accuracy: 0.723600\n",
      "Epoch 52, CIFAR-10 Batch 4:  Loss:     0.3268 Accuracy: 0.729600\n",
      "Epoch 52, CIFAR-10 Batch 5:  Loss:     0.4357 Accuracy: 0.716600\n",
      "Epoch 53, CIFAR-10 Batch 1:  Loss:     0.4841 Accuracy: 0.721200\n",
      "Epoch 53, CIFAR-10 Batch 2:  Loss:     0.5867 Accuracy: 0.723600\n",
      "Epoch 53, CIFAR-10 Batch 3:  Loss:     0.3347 Accuracy: 0.724200\n",
      "Epoch 53, CIFAR-10 Batch 4:  Loss:     0.3558 Accuracy: 0.732600\n",
      "Epoch 53, CIFAR-10 Batch 5:  Loss:     0.3681 Accuracy: 0.717800\n",
      "Epoch 54, CIFAR-10 Batch 1:  Loss:     0.4563 Accuracy: 0.733600\n",
      "Epoch 54, CIFAR-10 Batch 2:  Loss:     0.5045 Accuracy: 0.730800\n",
      "Epoch 54, CIFAR-10 Batch 3:  Loss:     0.3864 Accuracy: 0.718400\n",
      "Epoch 54, CIFAR-10 Batch 4:  Loss:     0.3234 Accuracy: 0.726000\n",
      "Epoch 54, CIFAR-10 Batch 5:  Loss:     0.3907 Accuracy: 0.713000\n",
      "Epoch 55, CIFAR-10 Batch 1:  Loss:     0.4848 Accuracy: 0.725200\n",
      "Epoch 55, CIFAR-10 Batch 2:  Loss:     0.5325 Accuracy: 0.719200\n",
      "Epoch 55, CIFAR-10 Batch 3:  Loss:     0.3437 Accuracy: 0.724600\n",
      "Epoch 55, CIFAR-10 Batch 4:  Loss:     0.3333 Accuracy: 0.727400\n",
      "Epoch 55, CIFAR-10 Batch 5:  Loss:     0.4020 Accuracy: 0.729600\n",
      "Epoch 56, CIFAR-10 Batch 1:  Loss:     0.4452 Accuracy: 0.724800\n",
      "Epoch 56, CIFAR-10 Batch 2:  Loss:     0.5702 Accuracy: 0.721800\n",
      "Epoch 56, CIFAR-10 Batch 3:  Loss:     0.3076 Accuracy: 0.724400\n",
      "Epoch 56, CIFAR-10 Batch 4:  Loss:     0.3280 Accuracy: 0.737400\n",
      "Epoch 56, CIFAR-10 Batch 5:  Loss:     0.4170 Accuracy: 0.716800\n",
      "Epoch 57, CIFAR-10 Batch 1:  Loss:     0.3916 Accuracy: 0.734400\n",
      "Epoch 57, CIFAR-10 Batch 2:  Loss:     0.5397 Accuracy: 0.733600\n",
      "Epoch 57, CIFAR-10 Batch 3:  Loss:     0.2899 Accuracy: 0.730400\n",
      "Epoch 57, CIFAR-10 Batch 4:  Loss:     0.2993 Accuracy: 0.734200\n",
      "Epoch 57, CIFAR-10 Batch 5:  Loss:     0.4034 Accuracy: 0.719000\n",
      "Epoch 58, CIFAR-10 Batch 1:  Loss:     0.4178 Accuracy: 0.729400\n",
      "Epoch 58, CIFAR-10 Batch 2:  Loss:     0.5077 Accuracy: 0.733400\n",
      "Epoch 58, CIFAR-10 Batch 3:  Loss:     0.3112 Accuracy: 0.724000\n",
      "Epoch 58, CIFAR-10 Batch 4:  Loss:     0.3549 Accuracy: 0.725600\n",
      "Epoch 58, CIFAR-10 Batch 5:  Loss:     0.3915 Accuracy: 0.721800\n",
      "Epoch 59, CIFAR-10 Batch 1:  Loss:     0.4227 Accuracy: 0.728800\n",
      "Epoch 59, CIFAR-10 Batch 2:  Loss:     0.4719 Accuracy: 0.725200\n",
      "Epoch 59, CIFAR-10 Batch 3:  Loss:     0.3706 Accuracy: 0.727200\n",
      "Epoch 59, CIFAR-10 Batch 4:  Loss:     0.3388 Accuracy: 0.728600\n",
      "Epoch 59, CIFAR-10 Batch 5:  Loss:     0.3579 Accuracy: 0.727400\n",
      "Epoch 60, CIFAR-10 Batch 1:  Loss:     0.4183 Accuracy: 0.730200\n",
      "Epoch 60, CIFAR-10 Batch 2:  Loss:     0.5157 Accuracy: 0.730600\n",
      "Epoch 60, CIFAR-10 Batch 3:  Loss:     0.3086 Accuracy: 0.732600\n",
      "Epoch 60, CIFAR-10 Batch 4:  Loss:     0.3184 Accuracy: 0.732600\n",
      "Epoch 60, CIFAR-10 Batch 5:  Loss:     0.3349 Accuracy: 0.723600\n",
      "Epoch 61, CIFAR-10 Batch 1:  Loss:     0.4076 Accuracy: 0.726600\n",
      "Epoch 61, CIFAR-10 Batch 2:  Loss:     0.5017 Accuracy: 0.732000\n",
      "Epoch 61, CIFAR-10 Batch 3:  Loss:     0.2912 Accuracy: 0.728400\n",
      "Epoch 61, CIFAR-10 Batch 4:  Loss:     0.3040 Accuracy: 0.735200\n",
      "Epoch 61, CIFAR-10 Batch 5:  Loss:     0.3764 Accuracy: 0.720400\n",
      "Epoch 62, CIFAR-10 Batch 1:  Loss:     0.4518 Accuracy: 0.727800\n",
      "Epoch 62, CIFAR-10 Batch 2:  Loss:     0.5430 Accuracy: 0.727400\n",
      "Epoch 62, CIFAR-10 Batch 3:  Loss:     0.2887 Accuracy: 0.732400\n",
      "Epoch 62, CIFAR-10 Batch 4:  Loss:     0.3002 Accuracy: 0.734800\n",
      "Epoch 62, CIFAR-10 Batch 5:  Loss:     0.3708 Accuracy: 0.730800\n",
      "Epoch 63, CIFAR-10 Batch 1:  Loss:     0.4334 Accuracy: 0.737800\n",
      "Epoch 63, CIFAR-10 Batch 2:  Loss:     0.4940 Accuracy: 0.732000\n",
      "Epoch 63, CIFAR-10 Batch 3:  Loss:     0.3177 Accuracy: 0.734800\n",
      "Epoch 63, CIFAR-10 Batch 4:  Loss:     0.2629 Accuracy: 0.737600\n",
      "Epoch 63, CIFAR-10 Batch 5:  Loss:     0.3605 Accuracy: 0.724600\n",
      "Epoch 64, CIFAR-10 Batch 1:  Loss:     0.4488 Accuracy: 0.735400\n",
      "Epoch 64, CIFAR-10 Batch 2:  Loss:     0.4459 Accuracy: 0.720200\n",
      "Epoch 64, CIFAR-10 Batch 3:  Loss:     0.2768 Accuracy: 0.733600\n",
      "Epoch 64, CIFAR-10 Batch 4:  Loss:     0.3187 Accuracy: 0.733800\n",
      "Epoch 64, CIFAR-10 Batch 5:  Loss:     0.3676 Accuracy: 0.729400\n",
      "Epoch 65, CIFAR-10 Batch 1:  Loss:     0.4349 Accuracy: 0.734800\n",
      "Epoch 65, CIFAR-10 Batch 2:  Loss:     0.4556 Accuracy: 0.741000\n",
      "Epoch 65, CIFAR-10 Batch 3:  Loss:     0.2979 Accuracy: 0.733400\n",
      "Epoch 65, CIFAR-10 Batch 4:  Loss:     0.2734 Accuracy: 0.737800\n",
      "Epoch 65, CIFAR-10 Batch 5:  Loss:     0.3354 Accuracy: 0.730400\n",
      "Epoch 66, CIFAR-10 Batch 1:  Loss:     0.3924 Accuracy: 0.735400\n",
      "Epoch 66, CIFAR-10 Batch 2:  Loss:     0.4698 Accuracy: 0.729200\n",
      "Epoch 66, CIFAR-10 Batch 3:  Loss:     0.2978 Accuracy: 0.735000\n",
      "Epoch 66, CIFAR-10 Batch 4:  Loss:     0.3188 Accuracy: 0.736600\n",
      "Epoch 66, CIFAR-10 Batch 5:  Loss:     0.3470 Accuracy: 0.725600\n",
      "Epoch 67, CIFAR-10 Batch 1:  Loss:     0.4413 Accuracy: 0.717800\n",
      "Epoch 67, CIFAR-10 Batch 2:  Loss:     0.4993 Accuracy: 0.730400\n",
      "Epoch 67, CIFAR-10 Batch 3:  Loss:     0.3034 Accuracy: 0.733400\n",
      "Epoch 67, CIFAR-10 Batch 4:  Loss:     0.2880 Accuracy: 0.735600\n",
      "Epoch 67, CIFAR-10 Batch 5:  Loss:     0.2917 Accuracy: 0.733400\n",
      "Epoch 68, CIFAR-10 Batch 1:  Loss:     0.4361 Accuracy: 0.725200\n",
      "Epoch 68, CIFAR-10 Batch 2:  Loss:     0.4810 Accuracy: 0.731600\n",
      "Epoch 68, CIFAR-10 Batch 3:  Loss:     0.2958 Accuracy: 0.737200\n",
      "Epoch 68, CIFAR-10 Batch 4:  Loss:     0.2849 Accuracy: 0.740400\n",
      "Epoch 68, CIFAR-10 Batch 5:  Loss:     0.3632 Accuracy: 0.717200\n",
      "Epoch 69, CIFAR-10 Batch 1:  Loss:     0.4605 Accuracy: 0.742200\n",
      "Epoch 69, CIFAR-10 Batch 2:  Loss:     0.4416 Accuracy: 0.736200\n",
      "Epoch 69, CIFAR-10 Batch 3:  Loss:     0.3015 Accuracy: 0.728600\n",
      "Epoch 69, CIFAR-10 Batch 4:  Loss:     0.2984 Accuracy: 0.736000\n",
      "Epoch 69, CIFAR-10 Batch 5:  Loss:     0.3446 Accuracy: 0.720200\n",
      "Epoch 70, CIFAR-10 Batch 1:  Loss:     0.3910 Accuracy: 0.735800\n",
      "Epoch 70, CIFAR-10 Batch 2:  Loss:     0.4286 Accuracy: 0.734600\n",
      "Epoch 70, CIFAR-10 Batch 3:  Loss:     0.3376 Accuracy: 0.728000\n",
      "Epoch 70, CIFAR-10 Batch 4:  Loss:     0.2933 Accuracy: 0.733200\n",
      "Epoch 70, CIFAR-10 Batch 5:  Loss:     0.3114 Accuracy: 0.723800\n",
      "Epoch 71, CIFAR-10 Batch 1:  Loss:     0.3870 Accuracy: 0.735200\n",
      "Epoch 71, CIFAR-10 Batch 2:  Loss:     0.4518 Accuracy: 0.738600\n",
      "Epoch 71, CIFAR-10 Batch 3:  Loss:     0.2815 Accuracy: 0.737200\n",
      "Epoch 71, CIFAR-10 Batch 4:  Loss:     0.3172 Accuracy: 0.735400\n",
      "Epoch 71, CIFAR-10 Batch 5:  Loss:     0.3275 Accuracy: 0.728000\n",
      "Epoch 72, CIFAR-10 Batch 1:  Loss:     0.4071 Accuracy: 0.733400\n",
      "Epoch 72, CIFAR-10 Batch 2:  Loss:     0.4798 Accuracy: 0.735600\n",
      "Epoch 72, CIFAR-10 Batch 3:  Loss:     0.2902 Accuracy: 0.743000\n",
      "Epoch 72, CIFAR-10 Batch 4:  Loss:     0.2575 Accuracy: 0.737200\n",
      "Epoch 72, CIFAR-10 Batch 5:  Loss:     0.3198 Accuracy: 0.737800\n",
      "Epoch 73, CIFAR-10 Batch 1:  Loss:     0.4443 Accuracy: 0.732600\n",
      "Epoch 73, CIFAR-10 Batch 2:  Loss:     0.4862 Accuracy: 0.734200\n",
      "Epoch 73, CIFAR-10 Batch 3:  Loss:     0.3043 Accuracy: 0.736400\n",
      "Epoch 73, CIFAR-10 Batch 4:  Loss:     0.2827 Accuracy: 0.733600\n",
      "Epoch 73, CIFAR-10 Batch 5:  Loss:     0.3688 Accuracy: 0.713000\n",
      "Epoch 74, CIFAR-10 Batch 1:  Loss:     0.3635 Accuracy: 0.736800\n",
      "Epoch 74, CIFAR-10 Batch 2:  Loss:     0.4649 Accuracy: 0.732800\n",
      "Epoch 74, CIFAR-10 Batch 3:  Loss:     0.2902 Accuracy: 0.721600\n",
      "Epoch 74, CIFAR-10 Batch 4:  Loss:     0.2936 Accuracy: 0.738000\n",
      "Epoch 74, CIFAR-10 Batch 5:  Loss:     0.3345 Accuracy: 0.728800\n",
      "Epoch 75, CIFAR-10 Batch 1:  Loss:     0.4107 Accuracy: 0.735000\n",
      "Epoch 75, CIFAR-10 Batch 2:  Loss:     0.4605 Accuracy: 0.739800\n",
      "Epoch 75, CIFAR-10 Batch 3:  Loss:     0.2944 Accuracy: 0.735200\n",
      "Epoch 75, CIFAR-10 Batch 4:  Loss:     0.3104 Accuracy: 0.734600\n",
      "Epoch 75, CIFAR-10 Batch 5:  Loss:     0.3326 Accuracy: 0.723200\n",
      "Epoch 76, CIFAR-10 Batch 1:  Loss:     0.3969 Accuracy: 0.732600\n",
      "Epoch 76, CIFAR-10 Batch 2:  Loss:     0.4358 Accuracy: 0.736400\n",
      "Epoch 76, CIFAR-10 Batch 3:  Loss:     0.3069 Accuracy: 0.738600\n",
      "Epoch 76, CIFAR-10 Batch 4:  Loss:     0.2623 Accuracy: 0.738000\n",
      "Epoch 76, CIFAR-10 Batch 5:  Loss:     0.3180 Accuracy: 0.731800\n",
      "Epoch 77, CIFAR-10 Batch 1:  Loss:     0.4446 Accuracy: 0.735000\n",
      "Epoch 77, CIFAR-10 Batch 2:  Loss:     0.4174 Accuracy: 0.733600\n",
      "Epoch 77, CIFAR-10 Batch 3:  Loss:     0.2615 Accuracy: 0.744400\n",
      "Epoch 77, CIFAR-10 Batch 4:  Loss:     0.2994 Accuracy: 0.726400\n",
      "Epoch 77, CIFAR-10 Batch 5:  Loss:     0.3041 Accuracy: 0.732000\n",
      "Epoch 78, CIFAR-10 Batch 1:  Loss:     0.3780 Accuracy: 0.736600\n",
      "Epoch 78, CIFAR-10 Batch 2:  Loss:     0.4193 Accuracy: 0.736600\n",
      "Epoch 78, CIFAR-10 Batch 3:  Loss:     0.2618 Accuracy: 0.735600\n",
      "Epoch 78, CIFAR-10 Batch 4:  Loss:     0.2645 Accuracy: 0.735800\n",
      "Epoch 78, CIFAR-10 Batch 5:  Loss:     0.3030 Accuracy: 0.729200\n",
      "Epoch 79, CIFAR-10 Batch 1:  Loss:     0.4004 Accuracy: 0.737600\n",
      "Epoch 79, CIFAR-10 Batch 2:  Loss:     0.4266 Accuracy: 0.736400\n",
      "Epoch 79, CIFAR-10 Batch 3:  Loss:     0.2945 Accuracy: 0.741600\n",
      "Epoch 79, CIFAR-10 Batch 4:  Loss:     0.3094 Accuracy: 0.733000\n",
      "Epoch 79, CIFAR-10 Batch 5:  Loss:     0.2972 Accuracy: 0.741200\n",
      "Epoch 80, CIFAR-10 Batch 1:  Loss:     0.3990 Accuracy: 0.737000\n",
      "Epoch 80, CIFAR-10 Batch 2:  Loss:     0.4063 Accuracy: 0.732400\n",
      "Epoch 80, CIFAR-10 Batch 3:  Loss:     0.2740 Accuracy: 0.733800\n",
      "Epoch 80, CIFAR-10 Batch 4:  Loss:     0.2358 Accuracy: 0.735400\n",
      "Epoch 80, CIFAR-10 Batch 5:  Loss:     0.2815 Accuracy: 0.729200\n",
      "Epoch 81, CIFAR-10 Batch 1:  Loss:     0.3978 Accuracy: 0.738200\n",
      "Epoch 81, CIFAR-10 Batch 2:  Loss:     0.4567 Accuracy: 0.733200\n",
      "Epoch 81, CIFAR-10 Batch 3:  Loss:     0.2498 Accuracy: 0.737000\n",
      "Epoch 81, CIFAR-10 Batch 4:  Loss:     0.2700 Accuracy: 0.742000\n",
      "Epoch 81, CIFAR-10 Batch 5:  Loss:     0.2739 Accuracy: 0.729000\n",
      "Epoch 82, CIFAR-10 Batch 1:  Loss:     0.3739 Accuracy: 0.742400\n",
      "Epoch 82, CIFAR-10 Batch 2:  Loss:     0.4192 Accuracy: 0.735000\n",
      "Epoch 82, CIFAR-10 Batch 3:  Loss:     0.2574 Accuracy: 0.727600\n",
      "Epoch 82, CIFAR-10 Batch 4:  Loss:     0.2623 Accuracy: 0.739000\n",
      "Epoch 82, CIFAR-10 Batch 5:  Loss:     0.3198 Accuracy: 0.725600\n",
      "Epoch 83, CIFAR-10 Batch 1:  Loss:     0.3793 Accuracy: 0.736200\n",
      "Epoch 83, CIFAR-10 Batch 2:  Loss:     0.4451 Accuracy: 0.741400\n",
      "Epoch 83, CIFAR-10 Batch 3:  Loss:     0.2778 Accuracy: 0.735400\n",
      "Epoch 83, CIFAR-10 Batch 4:  Loss:     0.2757 Accuracy: 0.740800\n",
      "Epoch 83, CIFAR-10 Batch 5:  Loss:     0.3207 Accuracy: 0.727200\n",
      "Epoch 84, CIFAR-10 Batch 1:  Loss:     0.3571 Accuracy: 0.731400\n",
      "Epoch 84, CIFAR-10 Batch 2:  Loss:     0.4188 Accuracy: 0.739600\n",
      "Epoch 84, CIFAR-10 Batch 3:  Loss:     0.2723 Accuracy: 0.745000\n",
      "Epoch 84, CIFAR-10 Batch 4:  Loss:     0.2585 Accuracy: 0.741000\n",
      "Epoch 84, CIFAR-10 Batch 5:  Loss:     0.3356 Accuracy: 0.724000\n",
      "Epoch 85, CIFAR-10 Batch 1:  Loss:     0.4037 Accuracy: 0.731400\n",
      "Epoch 85, CIFAR-10 Batch 2:  Loss:     0.3858 Accuracy: 0.734200\n",
      "Epoch 85, CIFAR-10 Batch 3:  Loss:     0.2437 Accuracy: 0.730400\n",
      "Epoch 85, CIFAR-10 Batch 4:  Loss:     0.2621 Accuracy: 0.739800\n",
      "Epoch 85, CIFAR-10 Batch 5:  Loss:     0.3669 Accuracy: 0.727000\n",
      "Epoch 86, CIFAR-10 Batch 1:  Loss:     0.3910 Accuracy: 0.731200\n",
      "Epoch 86, CIFAR-10 Batch 2:  Loss:     0.4457 Accuracy: 0.731800\n",
      "Epoch 86, CIFAR-10 Batch 3:  Loss:     0.2664 Accuracy: 0.736000\n",
      "Epoch 86, CIFAR-10 Batch 4:  Loss:     0.2920 Accuracy: 0.742800\n",
      "Epoch 86, CIFAR-10 Batch 5:  Loss:     0.2812 Accuracy: 0.737600\n",
      "Epoch 87, CIFAR-10 Batch 1:  Loss:     0.3715 Accuracy: 0.736000\n",
      "Epoch 87, CIFAR-10 Batch 2:  Loss:     0.4370 Accuracy: 0.743000\n",
      "Epoch 87, CIFAR-10 Batch 3:  Loss:     0.2455 Accuracy: 0.740800\n",
      "Epoch 87, CIFAR-10 Batch 4:  Loss:     0.2881 Accuracy: 0.738800\n",
      "Epoch 87, CIFAR-10 Batch 5:  Loss:     0.3235 Accuracy: 0.741600\n",
      "Epoch 88, CIFAR-10 Batch 1:  Loss:     0.3837 Accuracy: 0.733600\n",
      "Epoch 88, CIFAR-10 Batch 2:  Loss:     0.4695 Accuracy: 0.738200\n",
      "Epoch 88, CIFAR-10 Batch 3:  Loss:     0.2739 Accuracy: 0.740800\n",
      "Epoch 88, CIFAR-10 Batch 4:  Loss:     0.2916 Accuracy: 0.734200\n",
      "Epoch 88, CIFAR-10 Batch 5:  Loss:     0.3376 Accuracy: 0.735200\n",
      "Epoch 89, CIFAR-10 Batch 1:  Loss:     0.4110 Accuracy: 0.735600\n",
      "Epoch 89, CIFAR-10 Batch 2:  Loss:     0.3552 Accuracy: 0.742200\n",
      "Epoch 89, CIFAR-10 Batch 3:  Loss:     0.2487 Accuracy: 0.735200\n",
      "Epoch 89, CIFAR-10 Batch 4:  Loss:     0.2405 Accuracy: 0.735400\n",
      "Epoch 89, CIFAR-10 Batch 5:  Loss:     0.3078 Accuracy: 0.731800\n",
      "Epoch 90, CIFAR-10 Batch 1:  Loss:     0.3935 Accuracy: 0.734400\n",
      "Epoch 90, CIFAR-10 Batch 2:  Loss:     0.3573 Accuracy: 0.736000\n",
      "Epoch 90, CIFAR-10 Batch 3:  Loss:     0.2565 Accuracy: 0.743600\n",
      "Epoch 90, CIFAR-10 Batch 4:  Loss:     0.2898 Accuracy: 0.742000\n",
      "Epoch 90, CIFAR-10 Batch 5:  Loss:     0.3289 Accuracy: 0.730600\n",
      "Epoch 91, CIFAR-10 Batch 1:  Loss:     0.3951 Accuracy: 0.741800\n",
      "Epoch 91, CIFAR-10 Batch 2:  Loss:     0.3998 Accuracy: 0.739000\n",
      "Epoch 91, CIFAR-10 Batch 3:  Loss:     0.2514 Accuracy: 0.735000\n",
      "Epoch 91, CIFAR-10 Batch 4:  Loss:     0.3044 Accuracy: 0.739800\n",
      "Epoch 91, CIFAR-10 Batch 5:  Loss:     0.2840 Accuracy: 0.736000\n",
      "Epoch 92, CIFAR-10 Batch 1:  Loss:     0.3874 Accuracy: 0.743000\n",
      "Epoch 92, CIFAR-10 Batch 2:  Loss:     0.4214 Accuracy: 0.746600\n",
      "Epoch 92, CIFAR-10 Batch 3:  Loss:     0.2407 Accuracy: 0.740400\n",
      "Epoch 92, CIFAR-10 Batch 4:  Loss:     0.2551 Accuracy: 0.746400\n",
      "Epoch 92, CIFAR-10 Batch 5:  Loss:     0.2760 Accuracy: 0.735000\n",
      "Epoch 93, CIFAR-10 Batch 1:  Loss:     0.3702 Accuracy: 0.742000\n",
      "Epoch 93, CIFAR-10 Batch 2:  Loss:     0.4024 Accuracy: 0.732400\n",
      "Epoch 93, CIFAR-10 Batch 3:  Loss:     0.2344 Accuracy: 0.746000\n",
      "Epoch 93, CIFAR-10 Batch 4:  Loss:     0.2658 Accuracy: 0.740000\n",
      "Epoch 93, CIFAR-10 Batch 5:  Loss:     0.2926 Accuracy: 0.732600\n",
      "Epoch 94, CIFAR-10 Batch 1:  Loss:     0.4026 Accuracy: 0.737400\n",
      "Epoch 94, CIFAR-10 Batch 2:  Loss:     0.3965 Accuracy: 0.737400\n",
      "Epoch 94, CIFAR-10 Batch 3:  Loss:     0.2439 Accuracy: 0.745400\n",
      "Epoch 94, CIFAR-10 Batch 4:  Loss:     0.2175 Accuracy: 0.748400\n",
      "Epoch 94, CIFAR-10 Batch 5:  Loss:     0.2868 Accuracy: 0.729400\n",
      "Epoch 95, CIFAR-10 Batch 1:  Loss:     0.3865 Accuracy: 0.733800\n",
      "Epoch 95, CIFAR-10 Batch 2:  Loss:     0.4312 Accuracy: 0.742200\n",
      "Epoch 95, CIFAR-10 Batch 3:  Loss:     0.2667 Accuracy: 0.738000\n",
      "Epoch 95, CIFAR-10 Batch 4:  Loss:     0.2523 Accuracy: 0.743000\n",
      "Epoch 95, CIFAR-10 Batch 5:  Loss:     0.2794 Accuracy: 0.732000\n",
      "Epoch 96, CIFAR-10 Batch 1:  Loss:     0.3525 Accuracy: 0.745000\n",
      "Epoch 96, CIFAR-10 Batch 2:  Loss:     0.4492 Accuracy: 0.739400\n",
      "Epoch 96, CIFAR-10 Batch 3:  Loss:     0.2290 Accuracy: 0.744200\n",
      "Epoch 96, CIFAR-10 Batch 4:  Loss:     0.2325 Accuracy: 0.742200\n",
      "Epoch 96, CIFAR-10 Batch 5:  Loss:     0.2942 Accuracy: 0.726800\n",
      "Epoch 97, CIFAR-10 Batch 1:  Loss:     0.3874 Accuracy: 0.736200\n",
      "Epoch 97, CIFAR-10 Batch 2:  Loss:     0.4016 Accuracy: 0.737000\n",
      "Epoch 97, CIFAR-10 Batch 3:  Loss:     0.2490 Accuracy: 0.738800\n",
      "Epoch 97, CIFAR-10 Batch 4:  Loss:     0.2167 Accuracy: 0.741800\n",
      "Epoch 97, CIFAR-10 Batch 5:  Loss:     0.2937 Accuracy: 0.737400\n",
      "Epoch 98, CIFAR-10 Batch 1:  Loss:     0.3414 Accuracy: 0.743000\n",
      "Epoch 98, CIFAR-10 Batch 2:  Loss:     0.4072 Accuracy: 0.736800\n",
      "Epoch 98, CIFAR-10 Batch 3:  Loss:     0.2463 Accuracy: 0.740000\n",
      "Epoch 98, CIFAR-10 Batch 4:  Loss:     0.2209 Accuracy: 0.748400\n",
      "Epoch 98, CIFAR-10 Batch 5:  Loss:     0.3478 Accuracy: 0.728600\n",
      "Epoch 99, CIFAR-10 Batch 1:  Loss:     0.3500 Accuracy: 0.742600\n",
      "Epoch 99, CIFAR-10 Batch 2:  Loss:     0.3557 Accuracy: 0.727800\n",
      "Epoch 99, CIFAR-10 Batch 3:  Loss:     0.2442 Accuracy: 0.736800\n",
      "Epoch 99, CIFAR-10 Batch 4:  Loss:     0.2447 Accuracy: 0.754000\n",
      "Epoch 99, CIFAR-10 Batch 5:  Loss:     0.2874 Accuracy: 0.741400\n",
      "Epoch 100, CIFAR-10 Batch 1:  Loss:     0.3406 Accuracy: 0.739200\n",
      "Epoch 100, CIFAR-10 Batch 2:  Loss:     0.3554 Accuracy: 0.732800\n",
      "Epoch 100, CIFAR-10 Batch 3:  Loss:     0.2256 Accuracy: 0.733400\n",
      "Epoch 100, CIFAR-10 Batch 4:  Loss:     0.2686 Accuracy: 0.750200\n",
      "Epoch 100, CIFAR-10 Batch 5:  Loss:     0.2625 Accuracy: 0.743000\n"
     ]
    }
   ],
   "source": [
    "\"\"\"\n",
    "DON'T MODIFY ANYTHING IN THIS CELL\n",
    "\"\"\"\n",
    "save_model_path = './image_classification'\n",
    "\n",
    "print('Training...')\n",
    "with tf.Session() as sess:\n",
    "    # Initializing the variables\n",
    "    sess.run(tf.global_variables_initializer())\n",
    "    \n",
    "    # Training cycle\n",
    "    for epoch in range(epochs):\n",
    "        # Loop over all batches\n",
    "        n_batches = 5\n",
    "        for batch_i in range(1, n_batches + 1):\n",
    "            for batch_features, batch_labels in helper.load_preprocess_training_batch(batch_i, batch_size):\n",
    "                train_neural_network(sess, optimizer, keep_probability, batch_features, batch_labels)\n",
    "            print('Epoch {:>2}, CIFAR-10 Batch {}:  '.format(epoch + 1, batch_i), end='')\n",
    "            print_stats(sess, batch_features, batch_labels, cost, accuracy)\n",
    "            \n",
    "    # Save Model\n",
    "    saver = tf.train.Saver()\n",
    "    save_path = saver.save(sess, save_model_path)"
   ]
  },
  {
   "cell_type": "markdown",
   "metadata": {
    "deletable": true,
    "editable": true
   },
   "source": [
    "# Checkpoint\n",
    "The model has been saved to disk.\n",
    "## Test Model\n",
    "Test your model against the test dataset.  This will be your final accuracy. You should have an accuracy greater than 50%. If you don't, keep tweaking the model architecture and parameters."
   ]
  },
  {
   "cell_type": "code",
   "execution_count": 210,
   "metadata": {
    "collapsed": false,
    "deletable": true,
    "editable": true
   },
   "outputs": [
    {
     "name": "stdout",
     "output_type": "stream",
     "text": [
      "Testing Accuracy: 0.739814082278481\n",
      "\n"
     ]
    },
    {
     "data": {
      "image/png": "[encoded data removed]",
      "text/plain": [
       "<matplotlib.figure.Figure at 0x7ff6a017e5c0>"
      ]
     },
     "metadata": {
      "image/png": {
       "height": 319,
       "width": 355
      }
     },
     "output_type": "display_data"
    }
   ],
   "source": [
    "\"\"\"\n",
    "DON'T MODIFY ANYTHING IN THIS CELL\n",
    "\"\"\"\n",
    "%matplotlib inline\n",
    "%config InlineBackend.figure_format = 'retina'\n",
    "\n",
    "import tensorflow as tf\n",
    "import pickle\n",
    "import helper\n",
    "import random\n",
    "\n",
    "# Set batch size if not already set\n",
    "try:\n",
    "    if batch_size:\n",
    "        pass\n",
    "except NameError:\n",
    "    batch_size = 64\n",
    "\n",
    "save_model_path = './image_classification'\n",
    "n_samples = 4\n",
    "top_n_predictions = 3\n",
    "\n",
    "def test_model():\n",
    "    \"\"\"\n",
    "    Test the saved model against the test dataset\n",
    "    \"\"\"\n",
    "\n",
    "    test_features, test_labels = pickle.load(open('preprocess_test.p', mode='rb'))\n",
    "    loaded_graph = tf.Graph()\n",
    "\n",
    "    with tf.Session(graph=loaded_graph) as sess:\n",
    "        # Load model\n",
    "        loader = tf.train.import_meta_graph(save_model_path + '.meta')\n",
    "        loader.restore(sess, save_model_path)\n",
    "\n",
    "        # Get Tensors from loaded model\n",
    "        loaded_x = loaded_graph.get_tensor_by_name('x:0')\n",
    "        loaded_y = loaded_graph.get_tensor_by_name('y:0')\n",
    "        loaded_keep_prob = loaded_graph.get_tensor_by_name('keep_prob:0')\n",
    "        loaded_logits = loaded_graph.get_tensor_by_name('logits:0')\n",
    "        loaded_acc = loaded_graph.get_tensor_by_name('accuracy:0')\n",
    "        \n",
    "        # Get accuracy in batches for memory limitations\n",
    "        test_batch_acc_total = 0\n",
    "        test_batch_count = 0\n",
    "        \n",
    "        for test_feature_batch, test_label_batch in helper.batch_features_labels(test_features, test_labels, batch_size):\n",
    "            test_batch_acc_total += sess.run(\n",
    "                loaded_acc,\n",
    "                feed_dict={loaded_x: test_feature_batch, loaded_y: test_label_batch, loaded_keep_prob: 1.0})\n",
    "            test_batch_count += 1\n",
    "\n",
    "        print('Testing Accuracy: {}\\n'.format(test_batch_acc_total/test_batch_count))\n",
    "\n",
    "        # Print Random Samples\n",
    "        random_test_features, random_test_labels = tuple(zip(*random.sample(list(zip(test_features, test_labels)), n_samples)))\n",
    "        random_test_predictions = sess.run(\n",
    "            tf.nn.top_k(tf.nn.softmax(loaded_logits), top_n_predictions),\n",
    "            feed_dict={loaded_x: random_test_features, loaded_y: random_test_labels, loaded_keep_prob: 1.0})\n",
    "        helper.display_image_predictions(random_test_features, random_test_labels, random_test_predictions)\n",
    "\n",
    "\n",
    "test_model()"
   ]
  },
  {
   "cell_type": "markdown",
   "metadata": {
    "deletable": true,
    "editable": true
   },
   "source": [
    "## Why 50-80% Accuracy?\n",
    "You might be wondering why you can't get an accuracy any higher. First things first, 50% isn't bad for a simple CNN.  Pure guessing would get you 10% accuracy. However, you might notice people are getting scores [well above 80%](http://rodrigob.github.io/are_we_there_yet/build/classification_datasets_results.html#43494641522d3130).  That's because we haven't taught you all there is to know about neural networks. We still need to cover a few more techniques.\n",
    "## Submitting This Project\n",
    "When submitting this project, make sure to run all the cells before saving the notebook.  Save the notebook file as \"dlnd_image_classification.ipynb\" and save it as a HTML file under \"File\" -> \"Download as\".  Include the \"helper.py\" and \"problem_unittests.py\" files in your submission."
   ]
  },
  {
   "cell_type": "code",
   "execution_count": null,
   "metadata": {
    "collapsed": true
   },
   "outputs": [],
   "source": []
  }
 ],
 "metadata": {
  "kernelspec": {
   "display_name": "Python 3",
   "language": "python",
   "name": "python3"
  },
  "language_info": {
   "codemirror_mode": {
    "name": "ipython",
    "version": 3
   },
   "file_extension": ".py",
   "mimetype": "text/x-python",
   "name": "python",
   "nbconvert_exporter": "python",
   "pygments_lexer": "ipython3",
   "version": "3.5.3"
  }
 },
 "nbformat": 4,
 "nbformat_minor": 0
}
